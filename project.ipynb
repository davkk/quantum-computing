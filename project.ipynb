{
 "cells": [
  {
   "cell_type": "markdown",
   "metadata": {},
   "source": [
    "# Quantum Algorithms"
   ]
  },
  {
   "cell_type": "code",
   "execution_count": 133,
   "metadata": {},
   "outputs": [],
   "source": [
    "from openql import openql as ql\n",
    "import qxelarator\n",
    "import random\n",
    "from functools import reduce\n",
    "from collections import defaultdict\n",
    "import matplotlib.pyplot as plt\n"
   ]
  },
  {
   "cell_type": "code",
   "execution_count": 134,
   "metadata": {},
   "outputs": [],
   "source": [
    "ql.initialize()\n",
    "compiler = ql.Compiler(\"compiler\", \"./compiler-config.json\")\n",
    "\n",
    "platform = ql.Platform(\"platform\", \"none\")\n",
    "platform.set_compiler(compiler=compiler)\n",
    "\n",
    "\n",
    "def simulate(*, program, measured=None, shots):\n",
    "    qx = qxelarator.QX()\n",
    "    qx.set(f\"output/{program.name}.qasm\")\n",
    "\n",
    "    qubits = measured if measured else range(program.qubit_count)\n",
    "\n",
    "    counts = defaultdict(int)\n",
    "    for _ in range(shots):\n",
    "        qx.execute()\n",
    "        result = [int(qx.get_measurement_outcome(qubit)) for qubit in qubits]\n",
    "        result = reduce(lambda x, y: x + str(y), result, \"\")\n",
    "        counts[result] += 1\n",
    "\n",
    "    return dict(counts)\n",
    "\n",
    "\n",
    "def plot_histogram(counts, **kwargs):\n",
    "    total = sum(counts.values())\n",
    "\n",
    "    plt.bar(\n",
    "        list(counts.keys()),\n",
    "        list(map(lambda x: x / total, counts.values())),\n",
    "        **kwargs,\n",
    "    )\n",
    "\n",
    "    plt.title(\"Counts\")\n",
    "    plt.ylabel(\"Probability\")\n",
    "\n",
    "    plt.grid(axis=\"y\")\n",
    "    plt.show()\n"
   ]
  },
  {
   "cell_type": "markdown",
   "metadata": {},
   "source": [
    "## Bernstein-Vazirani Algorithm"
   ]
  },
  {
   "cell_type": "code",
   "execution_count": 135,
   "metadata": {},
   "outputs": [],
   "source": [
    "def generate_secret(n):\n",
    "    hidden_bits = random.randint(0, 2**n - 1)\n",
    "    return format(hidden_bits, \"0\" + str(n) + \"b\")\n",
    "\n",
    "\n",
    "def oracle(kernel, secret):\n",
    "    N = len(secret)\n",
    "    [kernel.cnot(i, N) for i in range(N) if int(secret[i]) == 1]\n"
   ]
  },
  {
   "cell_type": "code",
   "execution_count": 136,
   "metadata": {},
   "outputs": [
    {
     "name": "stdout",
     "output_type": "stream",
     "text": [
      "secret='11110'\n"
     ]
    }
   ],
   "source": [
    "N = 5\n",
    "secret = generate_secret(N)\n",
    "\n",
    "print(f\"{secret=}\")"
   ]
  },
  {
   "cell_type": "code",
   "execution_count": 137,
   "metadata": {},
   "outputs": [],
   "source": [
    "bv_program = ql.Program(\"bernstein-vazirani\", platform=platform, qubit_count=N + 1)\n",
    "bv_kernel = ql.Kernel(\"bv-kernel\", platform=platform, qubit_count=N + 1)\n",
    "\n",
    "for qubit in range(N):\n",
    "    bv_kernel.hadamard(qubit)\n",
    "\n",
    "bv_kernel.x(N)\n",
    "bv_kernel.hadamard(N)\n",
    "\n",
    "oracle(bv_kernel, secret)\n",
    "\n",
    "for qubit in range(N):\n",
    "    bv_kernel.hadamard(qubit)\n",
    "    bv_kernel.measure(qubit)\n",
    "\n",
    "bv_program.add_kernel(bv_kernel)\n",
    "bv_program.compile()\n"
   ]
  },
  {
   "cell_type": "code",
   "execution_count": 138,
   "metadata": {},
   "outputs": [],
   "source": [
    "counts = simulate(program=bv_program, measured=range(N), shots=1)\n"
   ]
  },
  {
   "cell_type": "code",
   "execution_count": 139,
   "metadata": {},
   "outputs": [
    {
     "name": "stdout",
     "output_type": "stream",
     "text": [
      "counts={'11110': 1}\n",
      "secret='11110'\n"
     ]
    }
   ],
   "source": [
    "print(f\"{counts=}\")\n",
    "print(f\"{secret=}\")\n"
   ]
  },
  {
   "cell_type": "code",
   "execution_count": 140,
   "metadata": {},
   "outputs": [
    {
     "data": {
      "image/png": "[encoded data removed]",
      "text/plain": [
       "<Figure size 432x288 with 1 Axes>"
      ]
     },
     "metadata": {
      "needs_background": "light"
     },
     "output_type": "display_data"
    }
   ],
   "source": [
    "plot_histogram(counts=counts)\n"
   ]
  },
  {
   "cell_type": "markdown",
   "metadata": {},
   "source": [
    "## Teleportation Algorithm"
   ]
  },
  {
   "cell_type": "code",
   "execution_count": 151,
   "metadata": {},
   "outputs": [],
   "source": [
    "tp_program = ql.Program(\"teleportation\", platform=platform, qubit_count=3)\n",
    "tp_kernel = ql.Kernel(\"tp-kernel\", platform=platform, qubit_count=3)\n",
    "\n",
    "# prepare state that will be sent, ie |1>\n",
    "tp_kernel.x(0)\n",
    "\n",
    "# create bell state for Alice and Bob\n",
    "tp_kernel.hadamard(1)\n",
    "tp_kernel.cnot(1, 2)\n",
    "\n",
    "# bell basis measurement by Alice\n",
    "tp_kernel.cnot(0, 1)\n",
    "tp_kernel.hadamard(0)\n",
    "\n",
    "# Bob's state translation\n",
    "tp_kernel.cnot(1, 2)\n",
    "tp_kernel.cz(0, 2)\n",
    "\n",
    "tp_kernel.measure(0)\n",
    "tp_kernel.measure(1)\n",
    "tp_kernel.measure(2)\n",
    "\n",
    "tp_program.add_kernel(tp_kernel)\n",
    "tp_program.compile()\n"
   ]
  },
  {
   "cell_type": "code",
   "execution_count": 152,
   "metadata": {},
   "outputs": [],
   "source": [
    "counts = simulate(program=tp_program, shots=1024)\n"
   ]
  },
  {
   "cell_type": "code",
   "execution_count": 153,
   "metadata": {},
   "outputs": [
    {
     "data": {
      "image/png": "[encoded data removed]",
      "text/plain": [
       "<Figure size 432x288 with 1 Axes>"
      ]
     },
     "metadata": {
      "needs_background": "light"
     },
     "output_type": "display_data"
    }
   ],
   "source": [
    "plot_histogram(counts)\n"
   ]
  },
  {
   "cell_type": "code",
   "execution_count": 154,
   "metadata": {},
   "outputs": [],
   "source": [
    "counts = simulate(program=tp_program, measured=[2], shots=1024)\n"
   ]
  },
  {
   "cell_type": "code",
   "execution_count": 155,
   "metadata": {},
   "outputs": [
    {
     "data": {
      "text/plain": [
       "{'1': 1024}"
      ]
     },
     "execution_count": 155,
     "metadata": {},
     "output_type": "execute_result"
    }
   ],
   "source": [
    "counts\n"
   ]
  }
 ],
 "metadata": {
  "interpreter": {
   "hash": "916dbcbb3f70747c44a77c7bcd40155683ae19c65e1c03b4aa3499c5328201f1"
  },
  "kernelspec": {
   "display_name": "Python 3.8.10 64-bit",
   "language": "python",
   "name": "python3"
  },
  "language_info": {
   "codemirror_mode": {
    "name": "ipython",
    "version": 3
   },
   "file_extension": ".py",
   "mimetype": "text/x-python",
   "name": "python",
   "nbconvert_exporter": "python",
   "pygments_lexer": "ipython3",
   "version": "3.8.10"
  },
  "orig_nbformat": 4
 },
 "nbformat": 4,
 "nbformat_minor": 2
}
