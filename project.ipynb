{
 "cells": [
  {
   "cell_type": "markdown",
   "metadata": {},
   "source": [
    "# Quantum Algorithms"
   ]
  },
  {
   "cell_type": "code",
   "execution_count": 60,
   "metadata": {},
   "outputs": [],
   "source": [
    "from openql import openql as ql\n",
    "from utils import simulate, plot_histogram, random_state\n"
   ]
  },
  {
   "cell_type": "code",
   "execution_count": 61,
   "metadata": {},
   "outputs": [],
   "source": [
    "ql.initialize()\n",
    "compiler = ql.Compiler(\"compiler\", \"./compiler-config.json\")\n",
    "\n",
    "platform = ql.Platform(\"platform\", \"none\")\n",
    "platform.set_compiler(compiler=compiler)\n"
   ]
  },
  {
   "cell_type": "markdown",
   "metadata": {},
   "source": [
    "## Bernstein-Vazirani Algorithm"
   ]
  },
  {
   "cell_type": "code",
   "execution_count": 62,
   "metadata": {},
   "outputs": [
    {
     "data": {
      "text/plain": [
       "'11000'"
      ]
     },
     "execution_count": 62,
     "metadata": {},
     "output_type": "execute_result"
    }
   ],
   "source": [
    "N = 5  # length of the secret message\n",
    "secret = random_state(N)  # generate secret message\n",
    "\n",
    "secret\n"
   ]
  },
  {
   "cell_type": "code",
   "execution_count": 63,
   "metadata": {},
   "outputs": [],
   "source": [
    "bv_program = ql.Program(\"bernstein-vazirani\", platform=platform, qubit_count=N + 1)\n",
    "bv_kernel = ql.Kernel(\"bv-kernel\", platform=platform, qubit_count=N + 1)\n",
    "\n",
    "# apply Hadamard gate to first N qubits\n",
    "for qubit in range(N):\n",
    "    bv_kernel.hadamard(qubit)\n",
    "\n",
    "# apply X gate and Hadamard gate to the last qubit\n",
    "bv_kernel.x(N)\n",
    "bv_kernel.hadamard(N)\n",
    "\n",
    "# oracle\n",
    "for i, qubit in enumerate(secret):\n",
    "    if qubit == \"1\":\n",
    "        bv_kernel.cnot(i, N)\n",
    "\n",
    "# reverse Hadamards and measure\n",
    "for qubit in range(N):\n",
    "    bv_kernel.hadamard(qubit)\n",
    "    bv_kernel.measure(qubit)\n",
    "\n",
    "bv_program.add_kernel(bv_kernel)\n",
    "bv_program.compile()\n"
   ]
  },
  {
   "cell_type": "code",
   "execution_count": 64,
   "metadata": {},
   "outputs": [],
   "source": [
    "counts = simulate(program=bv_program, measured=range(N), shots=1)\n"
   ]
  },
  {
   "cell_type": "code",
   "execution_count": 65,
   "metadata": {},
   "outputs": [
    {
     "name": "stdout",
     "output_type": "stream",
     "text": [
      "counts={'11000': 1}\n",
      "secret='11000'\n"
     ]
    }
   ],
   "source": [
    "print(f\"{counts=}\")\n",
    "print(f\"{secret=}\")\n"
   ]
  },
  {
   "cell_type": "markdown",
   "metadata": {},
   "source": [
    "## Teleportation Algorithm"
   ]
  },
  {
   "cell_type": "code",
   "execution_count": 66,
   "metadata": {},
   "outputs": [],
   "source": [
    "tp_program = ql.Program(\"teleportation\", platform=platform, qubit_count=3)\n",
    "tp_kernel = ql.Kernel(\"tp-kernel\", platform=platform, qubit_count=3)\n",
    "\n",
    "# prepare state that will be sent, ie |+>\n",
    "tp_kernel.hadamard(0)\n",
    "\n",
    "# create bell state for Alice and Bob\n",
    "tp_kernel.hadamard(1)\n",
    "tp_kernel.cnot(1, 2)\n",
    "\n",
    "# expansion in Bell's basis by Alice\n",
    "tp_kernel.cnot(0, 1)\n",
    "tp_kernel.hadamard(0)\n",
    "\n",
    "# Bob's state translation\n",
    "tp_kernel.cnot(1, 2)\n",
    "tp_kernel.cz(0, 2)\n",
    "\n",
    "# make measurements\n",
    "tp_kernel.measure(0)\n",
    "tp_kernel.measure(1)\n",
    "tp_kernel.measure(2)\n",
    "\n",
    "tp_program.add_kernel(tp_kernel)\n",
    "tp_program.compile()\n"
   ]
  },
  {
   "cell_type": "code",
   "execution_count": 67,
   "metadata": {},
   "outputs": [],
   "source": [
    "counts = simulate(program=tp_program, measured=[2], shots=1024)\n"
   ]
  },
  {
   "cell_type": "code",
   "execution_count": 68,
   "metadata": {},
   "outputs": [
    {
     "data": {
      "image/png": "[encoded data removed]",
      "text/plain": [
       "<Figure size 432x288 with 1 Axes>"
      ]
     },
     "metadata": {
      "needs_background": "light"
     },
     "output_type": "display_data"
    }
   ],
   "source": [
    "plot_histogram(counts)\n"
   ]
  },
  {
   "cell_type": "markdown",
   "metadata": {},
   "source": [
    "## Grover's Algorithm"
   ]
  },
  {
   "cell_type": "markdown",
   "metadata": {},
   "source": [
    "### Single-solution oracle"
   ]
  },
  {
   "cell_type": "code",
   "execution_count": 69,
   "metadata": {},
   "outputs": [
    {
     "data": {
      "text/plain": [
       "'11'"
      ]
     },
     "execution_count": 69,
     "metadata": {},
     "output_type": "execute_result"
    }
   ],
   "source": [
    "# choose random state as a winner\n",
    "winner = random_state(2)\n",
    "winner"
   ]
  },
  {
   "cell_type": "code",
   "execution_count": 70,
   "metadata": {},
   "outputs": [],
   "source": [
    "# initialize program and kernel\n",
    "grs_program = ql.Program(\"grovers-single\", platform=platform, qubit_count=2)\n",
    "grs_kernel = ql.Kernel(\"grs-kernel\", platform=platform, qubit_count=2)\n",
    "\n",
    "# apply Hadamard to all qubits\n",
    "# start with equally distributed probabilities\n",
    "grs_kernel.hadamard(0)\n",
    "grs_kernel.hadamard(1)\n",
    "\n",
    "# oracle based on random winner\n",
    "grs_kernel.cz(0, 1)\n",
    "for i, qubit in enumerate(winner):\n",
    "    if qubit == \"0\":\n",
    "        grs_kernel.x(i)\n",
    "        \n",
    "# amplification\n",
    "grs_kernel.hadamard(0)\n",
    "grs_kernel.hadamard(1)\n",
    "grs_kernel.z(0)\n",
    "grs_kernel.z(1)\n",
    "grs_kernel.cz(0, 1)\n",
    "grs_kernel.hadamard(0)\n",
    "grs_kernel.hadamard(1)\n",
    "\n",
    "# measurements\n",
    "grs_kernel.measure(0)\n",
    "grs_kernel.measure(1)\n",
    "\n",
    "grs_program.add_kernel(grs_kernel)\n",
    "grs_program.compile()"
   ]
  },
  {
   "cell_type": "code",
   "execution_count": 71,
   "metadata": {},
   "outputs": [],
   "source": [
    "counts = simulate(program=grs_program, shots=1)"
   ]
  },
  {
   "cell_type": "code",
   "execution_count": 72,
   "metadata": {},
   "outputs": [
    {
     "data": {
      "text/plain": [
       "{'11': 1}"
      ]
     },
     "execution_count": 72,
     "metadata": {},
     "output_type": "execute_result"
    }
   ],
   "source": [
    "counts\n"
   ]
  },
  {
   "cell_type": "markdown",
   "metadata": {},
   "source": [
    "### Double-solution oracle"
   ]
  },
  {
   "cell_type": "code",
   "execution_count": 73,
   "metadata": {},
   "outputs": [],
   "source": [
    "# choose two random winners\n",
    "winner1 = \"100\"\n",
    "winner2 = \"111\""
   ]
  },
  {
   "cell_type": "code",
   "execution_count": 74,
   "metadata": {},
   "outputs": [],
   "source": [
    "grd_program = ql.Program(\"grovers-double\", platform=platform, qubit_count=3)\n",
    "grd_kernel = ql.Kernel(\"grd-kernel\", platform=platform, qubit_count=3)\n",
    "\n",
    "for qubit in range(3):\n",
    "    grd_kernel.hadamard(qubit)\n",
    "\n",
    "# oracle for winners: 100 and 111\n",
    "grd_kernel.z(0)\n",
    "grd_kernel.cz(0, 1)\n",
    "grd_kernel.cz(0, 2)\n",
    "\n",
    "# amplification\n",
    "for qubit in range(3):\n",
    "    grd_kernel.hadamard(qubit)\n",
    "    grd_kernel.x(qubit)\n",
    "\n",
    "grd_kernel.hadamard(0)\n",
    "grd_kernel.toffoli(2, 1, 0)\n",
    "grd_kernel.hadamard(0)\n",
    "\n",
    "for qubit in range(3):\n",
    "    grd_kernel.x(qubit)\n",
    "    grd_kernel.hadamard(qubit)\n",
    "\n",
    "# measurements\n",
    "for qubit in range(3):\n",
    "    grd_kernel.measure(qubit)\n",
    "\n",
    "grd_program.add_kernel(grd_kernel)\n",
    "grd_program.compile()"
   ]
  },
  {
   "cell_type": "code",
   "execution_count": 75,
   "metadata": {},
   "outputs": [],
   "source": [
    "counts = simulate(program=grd_program, shots=1024)"
   ]
  },
  {
   "cell_type": "code",
   "execution_count": 76,
   "metadata": {},
   "outputs": [
    {
     "data": {
      "image/png": "[encoded data removed]",
      "text/plain": [
       "<Figure size 432x288 with 1 Axes>"
      ]
     },
     "metadata": {
      "needs_background": "light"
     },
     "output_type": "display_data"
    }
   ],
   "source": [
    "plot_histogram(counts)"
   ]
  }
 ],
 "metadata": {
  "interpreter": {
   "hash": "916dbcbb3f70747c44a77c7bcd40155683ae19c65e1c03b4aa3499c5328201f1"
  },
  "kernelspec": {
   "display_name": "Python 3.8.10 64-bit",
   "language": "python",
   "name": "python3"
  },
  "language_info": {
   "codemirror_mode": {
    "name": "ipython",
    "version": 3
   },
   "file_extension": ".py",
   "mimetype": "text/x-python",
   "name": "python",
   "nbconvert_exporter": "python",
   "pygments_lexer": "ipython3",
   "version": "3.8.10"
  },
  "orig_nbformat": 4
 },
 "nbformat": 4,
 "nbformat_minor": 2
}
