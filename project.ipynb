{
 "cells": [
  {
   "cell_type": "markdown",
   "metadata": {},
   "source": [
    "# Quantum Algorithms"
   ]
  },
  {
   "cell_type": "code",
   "execution_count": 35,
   "metadata": {},
   "outputs": [],
   "source": [
    "from openql import openql as ql\n",
    "import random\n",
    "from utils import simulate, plot_histogram\n"
   ]
  },
  {
   "cell_type": "code",
   "execution_count": 36,
   "metadata": {},
   "outputs": [],
   "source": [
    "ql.initialize()\n",
    "compiler = ql.Compiler(\"compiler\", \"./compiler-config.json\")\n",
    "\n",
    "platform = ql.Platform(\"platform\", \"none\")\n",
    "platform.set_compiler(compiler=compiler)\n"
   ]
  },
  {
   "cell_type": "markdown",
   "metadata": {},
   "source": [
    "## Bernstein-Vazirani Algorithm"
   ]
  },
  {
   "cell_type": "code",
   "execution_count": 37,
   "metadata": {},
   "outputs": [
    {
     "data": {
      "text/plain": [
       "'00100'"
      ]
     },
     "execution_count": 37,
     "metadata": {},
     "output_type": "execute_result"
    }
   ],
   "source": [
    "N = 5  # length of the secret message\n",
    "secret = f\"{random.randint(0, 2**N - 1):0{N}b}\"  # generate secret message\n",
    "\n",
    "secret\n"
   ]
  },
  {
   "cell_type": "code",
   "execution_count": 38,
   "metadata": {},
   "outputs": [],
   "source": [
    "bv_program = ql.Program(\"bernstein-vazirani\", platform=platform, qubit_count=N + 1)\n",
    "bv_kernel = ql.Kernel(\"bv-kernel\", platform=platform, qubit_count=N + 1)\n",
    "\n",
    "# apply Hadamard gate to first N qubits\n",
    "for qubit in range(N):\n",
    "    bv_kernel.hadamard(qubit)\n",
    "\n",
    "# apply X gate and Hadamard gate to the last qubit\n",
    "bv_kernel.x(N)\n",
    "bv_kernel.hadamard(N)\n",
    "\n",
    "# oracle\n",
    "for i in range(N):\n",
    "    if int(secret[i]) == 1:\n",
    "        bv_kernel.cnot(i, N)\n",
    "\n",
    "# reverse Hadamards and measure\n",
    "for qubit in range(N):\n",
    "    bv_kernel.hadamard(qubit)\n",
    "    bv_kernel.measure(qubit)\n",
    "\n",
    "bv_program.add_kernel(bv_kernel)\n",
    "bv_program.compile()\n"
   ]
  },
  {
   "cell_type": "code",
   "execution_count": 39,
   "metadata": {},
   "outputs": [],
   "source": [
    "counts = simulate(program=bv_program, measured=range(N), shots=1)\n"
   ]
  },
  {
   "cell_type": "code",
   "execution_count": 40,
   "metadata": {},
   "outputs": [
    {
     "name": "stdout",
     "output_type": "stream",
     "text": [
      "counts={'00100': 1}\n",
      "secret='00100'\n"
     ]
    }
   ],
   "source": [
    "print(f\"{counts=}\")\n",
    "print(f\"{secret=}\")\n"
   ]
  },
  {
   "cell_type": "code",
   "execution_count": 41,
   "metadata": {},
   "outputs": [
    {
     "data": {
      "image/png": "[encoded data removed]",
      "text/plain": [
       "<Figure size 432x288 with 1 Axes>"
      ]
     },
     "metadata": {
      "needs_background": "light"
     },
     "output_type": "display_data"
    }
   ],
   "source": [
    "plot_histogram(counts=counts)\n"
   ]
  },
  {
   "cell_type": "markdown",
   "metadata": {},
   "source": [
    "## Teleportation Algorithm"
   ]
  },
  {
   "cell_type": "code",
   "execution_count": 42,
   "metadata": {},
   "outputs": [],
   "source": [
    "tp_program = ql.Program(\"teleportation\", platform=platform, qubit_count=3)\n",
    "tp_kernel = ql.Kernel(\"tp-kernel\", platform=platform, qubit_count=3)\n",
    "\n",
    "# prepare state that will be sent, ie |1>\n",
    "tp_kernel.x(0)\n",
    "\n",
    "# create bell state for Alice and Bob\n",
    "tp_kernel.hadamard(1)\n",
    "tp_kernel.cnot(1, 2)\n",
    "\n",
    "# expansion in Bell's basis by Alice\n",
    "tp_kernel.cnot(0, 1)\n",
    "tp_kernel.hadamard(0)\n",
    "\n",
    "# Bob's state translation\n",
    "tp_kernel.cnot(1, 2)\n",
    "tp_kernel.cz(0, 2)\n",
    "\n",
    "# make measurements\n",
    "tp_kernel.measure(0)\n",
    "tp_kernel.measure(1)\n",
    "tp_kernel.measure(2)\n",
    "\n",
    "tp_program.add_kernel(tp_kernel)\n",
    "tp_program.compile()\n"
   ]
  },
  {
   "cell_type": "code",
   "execution_count": 43,
   "metadata": {},
   "outputs": [],
   "source": [
    "counts = simulate(program=tp_program, shots=1024)\n"
   ]
  },
  {
   "cell_type": "code",
   "execution_count": 44,
   "metadata": {},
   "outputs": [
    {
     "data": {
      "image/png": "[encoded data removed]",
      "text/plain": [
       "<Figure size 432x288 with 1 Axes>"
      ]
     },
     "metadata": {
      "needs_background": "light"
     },
     "output_type": "display_data"
    }
   ],
   "source": [
    "plot_histogram(counts)\n"
   ]
  },
  {
   "cell_type": "code",
   "execution_count": 45,
   "metadata": {},
   "outputs": [],
   "source": [
    "counts = simulate(program=tp_program, measured=[2], shots=1024)\n"
   ]
  },
  {
   "cell_type": "code",
   "execution_count": 46,
   "metadata": {},
   "outputs": [
    {
     "data": {
      "text/plain": [
       "{'1': 1024}"
      ]
     },
     "execution_count": 46,
     "metadata": {},
     "output_type": "execute_result"
    }
   ],
   "source": [
    "counts\n"
   ]
  }
 ],
 "metadata": {
  "interpreter": {
   "hash": "916dbcbb3f70747c44a77c7bcd40155683ae19c65e1c03b4aa3499c5328201f1"
  },
  "kernelspec": {
   "display_name": "Python 3.8.10 64-bit",
   "language": "python",
   "name": "python3"
  },
  "language_info": {
   "codemirror_mode": {
    "name": "ipython",
    "version": 3
   },
   "file_extension": ".py",
   "mimetype": "text/x-python",
   "name": "python",
   "nbconvert_exporter": "python",
   "pygments_lexer": "ipython3",
   "version": "3.8.10"
  },
  "orig_nbformat": 4
 },
 "nbformat": 4,
 "nbformat_minor": 2
}
