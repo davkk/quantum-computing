{
 "cells": [
  {
   "cell_type": "markdown",
   "source": "# Quantum Algorithms",
   "metadata": {
    "cell_id": "62f76a75-0d0c-47ee-8463-97556579d888",
    "deepnote_app_coordinates": {
     "x": 0,
     "y": 0,
     "w": 12,
     "h": 5
    },
    "deepnote_cell_type": "markdown",
    "deepnote_cell_height": 61.1875
   }
  },
  {
   "cell_type": "code",
   "metadata": {
    "cell_id": "00001-f01ee360-fcd8-401e-b1ac-c0e908c1be47",
    "deepnote_to_be_reexecuted": false,
    "source_hash": "545a5dd7",
    "execution_start": 1655224371714,
    "execution_millis": 722,
    "deepnote_cell_type": "code",
    "deepnote_cell_height": 135
   },
   "source": "from openql import openql as ql\nimport numpy as np\nfrom utils import simulate, plot_histogram, random_state\n",
   "execution_count": 1,
   "outputs": []
  },
  {
   "cell_type": "code",
   "metadata": {
    "cell_id": "00002-b9c3317d-b329-48fc-bf74-808c2c323893",
    "deepnote_to_be_reexecuted": false,
    "source_hash": "4dddf776",
    "execution_start": 1655227073710,
    "execution_millis": 1,
    "deepnote_cell_type": "code",
    "deepnote_cell_height": 171
   },
   "source": "ql.initialize()\ncompiler = ql.Compiler(\"compiler\", \"./config/compiler-config.json\")\n\nplatform = ql.Platform(\"platform\", \"none\")\nplatform.set_compiler(compiler=compiler)\n",
   "execution_count": 89,
   "outputs": []
  },
  {
   "cell_type": "markdown",
   "source": "## Bernstein-Vazirani Algorithm",
   "metadata": {
    "cell_id": "00003-eaaead34-d204-4c1f-9d25-9df1ae250cdd",
    "deepnote_app_coordinates": {
     "x": 0,
     "y": 18,
     "w": 12,
     "h": 5
    },
    "deepnote_cell_type": "markdown",
    "deepnote_cell_height": 56.390625
   }
  },
  {
   "cell_type": "code",
   "metadata": {
    "cell_id": "00004-ff670475-b70b-4c23-9467-2060d4531c4f",
    "deepnote_to_be_reexecuted": false,
    "source_hash": "fda92254",
    "execution_start": 1655224372452,
    "execution_millis": 10,
    "deepnote_app_coordinates": {
     "x": 0,
     "y": 24,
     "w": 12,
     "h": 5
    },
    "deepnote_cell_type": "code",
    "deepnote_cell_height": 190.1875,
    "deepnote_output_heights": [
     21.1875
    ]
   },
   "source": "N = 5  # length of the secret message\nsecret = random_state(N)  # generate secret message\n\nsecret\n",
   "execution_count": 3,
   "outputs": [
    {
     "output_type": "execute_result",
     "execution_count": 3,
     "data": {
      "text/plain": "'11000'"
     },
     "metadata": {}
    }
   ]
  },
  {
   "cell_type": "code",
   "metadata": {
    "cell_id": "00005-294cd049-2747-4314-806f-896d26be9050",
    "deepnote_to_be_reexecuted": false,
    "source_hash": "e53c46e8",
    "execution_start": 1655224372469,
    "execution_millis": 3,
    "deepnote_app_coordinates": {
     "x": 0,
     "y": 30,
     "w": 12,
     "h": 5
    },
    "deepnote_cell_type": "code",
    "deepnote_cell_height": 495
   },
   "source": "bv_program = ql.Program(\"bernstein-vazirani\", platform=platform, qubit_count=N + 1)\nbv_kernel = ql.Kernel(\"bv-kernel\", platform=platform, qubit_count=N + 1)\n\n# apply Hadamard gate to first N qubits\nfor qubit in range(N):\n    bv_kernel.hadamard(qubit)\n\n# apply X gate and Hadamard gate to the last qubit\nbv_kernel.x(N)\nbv_kernel.hadamard(N)\n\n# oracle\nfor i, qubit in enumerate(secret):\n    if qubit == \"1\":\n        bv_kernel.cnot(i, N)\n\n# reverse Hadamards and measure\nfor qubit in range(N):\n    bv_kernel.hadamard(qubit)\n    bv_kernel.measure(qubit)\n\nbv_program.add_kernel(bv_kernel)\nbv_program.compile()\n",
   "execution_count": 4,
   "outputs": []
  },
  {
   "cell_type": "code",
   "metadata": {
    "cell_id": "00006-26a87826-fddd-4f74-b37e-8ed3594c829e",
    "deepnote_to_be_reexecuted": false,
    "source_hash": "1af38364",
    "execution_start": 1655224372481,
    "execution_millis": 4,
    "deepnote_app_coordinates": {
     "x": 0,
     "y": 36,
     "w": 12,
     "h": 5
    },
    "deepnote_cell_type": "code",
    "deepnote_cell_height": 99
   },
   "source": "counts = simulate(program=bv_program, measured=range(N), shots=1)\n",
   "execution_count": 5,
   "outputs": []
  },
  {
   "cell_type": "code",
   "metadata": {
    "cell_id": "00007-c36d0260-87fa-43e5-913b-2614837c9551",
    "deepnote_to_be_reexecuted": false,
    "source_hash": "b1b8da77",
    "execution_start": 1655224372488,
    "execution_millis": 5,
    "deepnote_app_coordinates": {
     "x": 0,
     "y": 42,
     "w": 12,
     "h": 5
    },
    "deepnote_cell_type": "code",
    "deepnote_cell_height": 168
   },
   "source": "print(f\"{counts=}\")\nprint(f\"{secret=}\")\n",
   "execution_count": 6,
   "outputs": [
    {
     "name": "stdout",
     "text": "counts={'11000': 1}\nsecret='11000'\n",
     "output_type": "stream"
    }
   ]
  },
  {
   "cell_type": "markdown",
   "source": "## Teleportation Algorithm",
   "metadata": {
    "cell_id": "00008-366fde0b-0543-4ce6-b0c7-6ea768bf9d99",
    "deepnote_app_coordinates": {
     "x": 0,
     "y": 48,
     "w": 12,
     "h": 5
    },
    "deepnote_cell_type": "markdown",
    "deepnote_cell_height": 56.390625
   }
  },
  {
   "cell_type": "code",
   "metadata": {
    "cell_id": "00009-04ad8aef-02d0-481f-b4bb-708c7c7be3a6",
    "deepnote_to_be_reexecuted": false,
    "source_hash": "f2f24642",
    "execution_start": 1655224372501,
    "execution_millis": 2,
    "deepnote_app_coordinates": {
     "x": 0,
     "y": 54,
     "w": 12,
     "h": 5
    },
    "deepnote_cell_type": "code",
    "deepnote_cell_height": 531
   },
   "source": "tp_program = ql.Program(\"teleportation\", platform=platform, qubit_count=3)\ntp_kernel = ql.Kernel(\"tp-kernel\", platform=platform, qubit_count=3)\n\n# prepare state that will be sent, ie |+>\ntp_kernel.hadamard(0)\n\n# create bell state for Alice and Bob\ntp_kernel.hadamard(1)\ntp_kernel.cnot(1, 2)\n\n# expansion in Bell's basis by Alice\ntp_kernel.cnot(0, 1)\ntp_kernel.hadamard(0)\n\n# Bob's state translation\ntp_kernel.cnot(1, 2)\ntp_kernel.cz(0, 2)\n\n# make measurements\ntp_kernel.measure(0)\ntp_kernel.measure(1)\ntp_kernel.measure(2)\n\ntp_program.add_kernel(tp_kernel)\ntp_program.compile()\n",
   "execution_count": 7,
   "outputs": []
  },
  {
   "cell_type": "code",
   "metadata": {
    "cell_id": "00010-80e3574d-e6e6-4655-a538-3767186e53b0",
    "deepnote_to_be_reexecuted": false,
    "source_hash": "e372263a",
    "execution_start": 1655224372564,
    "execution_millis": 398,
    "deepnote_app_coordinates": {
     "x": 0,
     "y": 60,
     "w": 12,
     "h": 5
    },
    "deepnote_cell_type": "code",
    "deepnote_cell_height": 99
   },
   "source": "counts = simulate(program=tp_program, measured=[2], shots=1024)\n",
   "execution_count": 8,
   "outputs": []
  },
  {
   "cell_type": "code",
   "metadata": {
    "cell_id": "00011-543dc983-b60a-455e-bb2f-5f72a7607f2d",
    "deepnote_to_be_reexecuted": false,
    "source_hash": "3cbdaead",
    "execution_start": 1655224372967,
    "execution_millis": 723,
    "deepnote_app_coordinates": {
     "x": 0,
     "y": 66,
     "w": 12,
     "h": 5
    },
    "deepnote_cell_type": "code",
    "deepnote_cell_height": 381,
    "deepnote_output_heights": [
     266
    ]
   },
   "source": "plot_histogram(counts)\n",
   "execution_count": 9,
   "outputs": [
    {
     "data": {
      "text/plain": "<Figure size 432x288 with 1 Axes>",
      "image/png": "[encoded data removed]"
     },
     "metadata": {
      "needs_background": "light",
      "image/png": {
       "width": 386,
       "height": 264
      }
     },
     "output_type": "display_data"
    }
   ]
  },
  {
   "cell_type": "markdown",
   "source": "## Grover's Algorithm",
   "metadata": {
    "cell_id": "00012-a56c0478-a62a-41fa-8240-c75efd20d0a3",
    "deepnote_app_coordinates": {
     "x": 0,
     "y": 72,
     "w": 12,
     "h": 5
    },
    "deepnote_cell_type": "markdown",
    "deepnote_cell_height": 56.390625
   }
  },
  {
   "cell_type": "markdown",
   "source": "### Single-solution oracle",
   "metadata": {
    "cell_id": "00013-afbcecbd-d722-4082-bb10-bf09d1e5df4d",
    "deepnote_app_coordinates": {
     "x": 0,
     "y": 78,
     "w": 12,
     "h": 5
    },
    "deepnote_cell_type": "markdown",
    "deepnote_cell_height": 54
   }
  },
  {
   "cell_type": "code",
   "metadata": {
    "cell_id": "00014-326792e2-e545-4080-8767-f16e10262bb2",
    "deepnote_to_be_reexecuted": false,
    "source_hash": "95a7a82f",
    "execution_start": 1655224373205,
    "deepnote_app_coordinates": {
     "x": 0,
     "y": 84,
     "w": 12,
     "h": 5
    },
    "execution_millis": 491,
    "deepnote_cell_type": "code",
    "deepnote_cell_height": 154.1875,
    "deepnote_output_heights": [
     21.1875
    ]
   },
   "source": "# choose random state as a winner\nwinner = random_state(2)\nwinner",
   "execution_count": 10,
   "outputs": [
    {
     "output_type": "execute_result",
     "execution_count": 10,
     "data": {
      "text/plain": "'11'"
     },
     "metadata": {}
    }
   ]
  },
  {
   "cell_type": "code",
   "metadata": {
    "cell_id": "00015-347dd5a5-d38f-442d-a41f-98f4117a292b",
    "deepnote_to_be_reexecuted": false,
    "source_hash": "76950644",
    "execution_start": 1655224373220,
    "deepnote_app_coordinates": {
     "x": 0,
     "y": 90,
     "w": 12,
     "h": 5
    },
    "execution_millis": 1,
    "deepnote_cell_type": "code",
    "deepnote_cell_height": 603
   },
   "source": "# initialize program and kernel\ngrs_program = ql.Program(\"grovers-single\", platform=platform, qubit_count=2)\ngrs_kernel = ql.Kernel(\"grs-kernel\", platform=platform, qubit_count=2)\n\n# apply Hadamard to all qubits\n# start with equally distributed probabilities\ngrs_kernel.hadamard(0)\ngrs_kernel.hadamard(1)\n\n# oracle based on random winner\ngrs_kernel.cz(0, 1)\nfor i, qubit in enumerate(winner):\n    if qubit == \"0\":\n        grs_kernel.x(i)\n        \n# amplification\ngrs_kernel.hadamard(0)\ngrs_kernel.hadamard(1)\ngrs_kernel.z(0)\ngrs_kernel.z(1)\ngrs_kernel.cz(0, 1)\ngrs_kernel.hadamard(0)\ngrs_kernel.hadamard(1)\n\n# measurements\ngrs_kernel.measure(0)\ngrs_kernel.measure(1)\n\ngrs_program.add_kernel(grs_kernel)\ngrs_program.compile()",
   "execution_count": 11,
   "outputs": []
  },
  {
   "cell_type": "code",
   "metadata": {
    "cell_id": "00016-475c33d7-0eee-4f9a-aacf-76b661b3f3b1",
    "deepnote_to_be_reexecuted": false,
    "source_hash": "d7c8273",
    "execution_start": 1655224373228,
    "execution_millis": 4,
    "deepnote_app_coordinates": {
     "x": 0,
     "y": 96,
     "w": 12,
     "h": 5
    },
    "deepnote_cell_type": "code",
    "deepnote_cell_height": 81
   },
   "source": "counts = simulate(program=grs_program, shots=1)",
   "execution_count": 12,
   "outputs": []
  },
  {
   "cell_type": "code",
   "metadata": {
    "cell_id": "00017-b4d21f64-f789-40fa-b5d3-0c8afe1a6a8b",
    "deepnote_to_be_reexecuted": false,
    "source_hash": "f772e666",
    "execution_start": 1655224373238,
    "execution_millis": 462,
    "deepnote_app_coordinates": {
     "x": 0,
     "y": 102,
     "w": 12,
     "h": 5
    },
    "deepnote_cell_type": "code",
    "deepnote_cell_height": 136.1875,
    "deepnote_output_heights": [
     21.1875
    ]
   },
   "source": "counts\n",
   "execution_count": 13,
   "outputs": [
    {
     "output_type": "execute_result",
     "execution_count": 13,
     "data": {
      "text/plain": "{'11': 1}"
     },
     "metadata": {}
    }
   ]
  },
  {
   "cell_type": "markdown",
   "source": "### Double-solution oracle",
   "metadata": {
    "cell_id": "00018-860eb914-b7a2-47a7-9efc-4b07a24e4b1e",
    "deepnote_app_coordinates": {
     "x": 0,
     "y": 108,
     "w": 12,
     "h": 5
    },
    "deepnote_cell_type": "markdown",
    "deepnote_cell_height": 54
   }
  },
  {
   "cell_type": "code",
   "metadata": {
    "cell_id": "00019-c674a0d3-a4d0-451c-836a-08e91267c0b1",
    "deepnote_to_be_reexecuted": false,
    "source_hash": "71be92b0",
    "execution_start": 1655224373287,
    "execution_millis": 0,
    "deepnote_app_coordinates": {
     "x": 0,
     "y": 114,
     "w": 12,
     "h": 5
    },
    "deepnote_cell_type": "code",
    "deepnote_cell_height": 117
   },
   "source": "# choose two random winners\nwinner1 = \"100\"\nwinner2 = \"111\"",
   "execution_count": 14,
   "outputs": []
  },
  {
   "cell_type": "code",
   "metadata": {
    "cell_id": "00020-de0a2854-8d33-4729-b5f2-ce46356cea93",
    "deepnote_to_be_reexecuted": false,
    "source_hash": "c8255f4e",
    "execution_start": 1655224373288,
    "execution_millis": 0,
    "deepnote_app_coordinates": {
     "x": 0,
     "y": 120,
     "w": 12,
     "h": 5
    },
    "deepnote_cell_type": "code",
    "deepnote_cell_height": 603
   },
   "source": "grd_program = ql.Program(\"grovers-double\", platform=platform, qubit_count=3)\ngrd_kernel = ql.Kernel(\"grd-kernel\", platform=platform, qubit_count=3)\n\nfor qubit in range(3):\n    grd_kernel.hadamard(qubit)\n\n# oracle for winners: 100 and 111\ngrd_kernel.z(0)\ngrd_kernel.cz(0, 1)\ngrd_kernel.cz(0, 2)\n\n# amplification\nfor qubit in range(3):\n    grd_kernel.hadamard(qubit)\n    grd_kernel.x(qubit)\n\ngrd_kernel.hadamard(0)\ngrd_kernel.toffoli(2, 1, 0)\ngrd_kernel.hadamard(0)\n\nfor qubit in range(3):\n    grd_kernel.x(qubit)\n    grd_kernel.hadamard(qubit)\n\n# measurements\nfor qubit in range(3):\n    grd_kernel.measure(qubit)\n\ngrd_program.add_kernel(grd_kernel)\ngrd_program.compile()",
   "execution_count": 15,
   "outputs": []
  },
  {
   "cell_type": "code",
   "metadata": {
    "cell_id": "00021-5239a7ee-9ef6-42e7-8841-8c866637dbd9",
    "deepnote_to_be_reexecuted": false,
    "source_hash": "3a0f5000",
    "execution_start": 1655225172722,
    "execution_millis": 754,
    "deepnote_app_coordinates": {
     "x": 0,
     "y": 126,
     "w": 12,
     "h": 5
    },
    "deepnote_cell_type": "code",
    "deepnote_cell_height": 399,
    "deepnote_output_heights": [
     266
    ]
   },
   "source": "counts = simulate(program=grd_program, shots=1024)\n\nplot_histogram(counts)",
   "execution_count": 47,
   "outputs": [
    {
     "data": {
      "text/plain": "<Figure size 432x288 with 1 Axes>",
      "image/png": "[encoded data removed]"
     },
     "metadata": {
      "needs_background": "light",
      "image/png": {
       "width": 386,
       "height": 264
      }
     },
     "output_type": "display_data"
    }
   ]
  },
  {
   "cell_type": "markdown",
   "source": "## Superdense coding",
   "metadata": {
    "formattedRanges": [],
    "cell_id": "e4c65a58699f446585b58aaaca3884f8",
    "tags": [],
    "is_collapsed": false,
    "deepnote_app_coordinates": {
     "x": 0,
     "y": 0,
     "w": 12,
     "h": 5
    },
    "deepnote_cell_type": "text-cell-h2"
   }
  },
  {
   "cell_type": "code",
   "metadata": {
    "cell_id": "10fc78a3788542beaf671fab919dee25",
    "tags": [],
    "deepnote_app_coordinates": {
     "x": 0,
     "y": 0,
     "w": 12,
     "h": 5
    },
    "deepnote_to_be_reexecuted": false,
    "source_hash": "13d1ce40",
    "execution_start": 1655226746122,
    "execution_millis": 2,
    "deepnote_cell_type": "code",
    "deepnote_cell_height": 387
   },
   "source": "# Co może być wysłane: 00 - I, 01 - Z, 10 - X, 11 - ZX\n\n\ndef mess(k: ql.Kernel):\n    # options = [\"00\", \"01\", \"10\", \"11\"]\n    # r = np.random.randint(4)\n    # random_option = np.random.choice(options)\n    msg = random_state(2)\n    print(msg)\n\n    if msg == \"01\":\n        k.z(0)\n    if msg == \"10\":\n        k.x(0)\n    if msg == \"11\":\n        k.z(0)\n        k.x(0)\n",
   "execution_count": 88,
   "outputs": []
  },
  {
   "cell_type": "code",
   "metadata": {
    "cell_id": "fbaa8dc976094dc48b04e7d112e5f95e",
    "tags": [],
    "deepnote_app_coordinates": {
     "x": 0,
     "y": 0,
     "w": 12,
     "h": 5
    },
    "deepnote_to_be_reexecuted": false,
    "source_hash": "32cd6411",
    "execution_start": 1655225424502,
    "execution_millis": 4,
    "deepnote_cell_type": "code",
    "deepnote_cell_height": 454
   },
   "source": "nqubits = 2\n\nsc_p = ql.Program(\"superdense-coding\", platform, nqubits)\nk = ql.Kernel(\"kernel\", platform, nqubits)\n\nk.hadamard(0)\nk.cnot(0, 1)\n\nmess(k)\n\n# Odczyt\nk.cnot(1, 0)\nk.hadamard(1)\n\nk.measure(0)\nk.measure(1)\n\nsc_p.add_kernel(k)\nsc_p.compile()\n",
   "execution_count": 65,
   "outputs": [
    {
     "name": "stdout",
     "text": "11\n",
     "output_type": "stream"
    }
   ]
  },
  {
   "cell_type": "code",
   "metadata": {
    "cell_id": "d8faacae554d4a528d0892820ca4c57b",
    "tags": [],
    "deepnote_app_coordinates": {
     "x": 0,
     "y": 0,
     "w": 12,
     "h": 5
    },
    "deepnote_to_be_reexecuted": false,
    "source_hash": "c060edc3",
    "execution_start": 1655225426481,
    "execution_millis": 513,
    "deepnote_cell_type": "code",
    "deepnote_cell_height": 399,
    "deepnote_output_heights": [
     266
    ]
   },
   "source": "counts = simulate(program=sc_p, shots=1024)\nplot_histogram(counts=counts)\n",
   "execution_count": 66,
   "outputs": [
    {
     "data": {
      "text/plain": "<Figure size 432x288 with 1 Axes>",
      "image/png": "[encoded data removed]"
     },
     "metadata": {
      "needs_background": "light",
      "image/png": {
       "width": 386,
       "height": 264
      }
     },
     "output_type": "display_data"
    }
   ]
  },
  {
   "cell_type": "markdown",
   "source": "## Deutsch-Jozsa algorithm",
   "metadata": {
    "formattedRanges": [],
    "cell_id": "b804b2267ee646d0936ffaf70a975c95",
    "tags": [],
    "is_collapsed": false,
    "deepnote_app_coordinates": {
     "x": 0,
     "y": 0,
     "w": 12,
     "h": 5
    },
    "deepnote_cell_type": "text-cell-h2"
   }
  },
  {
   "cell_type": "code",
   "metadata": {
    "cell_id": "7b3fff638c5942bfabfcae35ab59edbb",
    "tags": [],
    "deepnote_app_coordinates": {
     "x": 0,
     "y": 0,
     "w": 12,
     "h": 5
    },
    "deepnote_to_be_reexecuted": false,
    "source_hash": "743168c5",
    "execution_start": 1655226089687,
    "execution_millis": 2,
    "deepnote_cell_type": "code",
    "deepnote_cell_height": 531
   },
   "source": "def oracle(nqubits):\n    options = [\"c\", \"b\"]\n    random_option = np.random.choice(options)\n    print(random_option)\n\n    if random_option == \"c\":\n        rand = np.random.randint(2)\n        for q in range(nqubits):\n            if rand == 1:\n                k.x(q)\n\n    if random_option == \"b\":\n        tab = [1, 0, 0, 1]\n        # for q in range(len(tab)):\n        for i, q in enumerate(tab):\n            if q == 1:\n                k.x(i)\n\n        for q in range(nqubits - 1):\n            k.cnot(q, nqubits - 1)\n        \n        # for q in range(len(tab)):\n        for i, q in enumerate(tab):\n            if tab[q] == 1:\n                k.x(q)\n",
   "execution_count": 70,
   "outputs": []
  },
  {
   "cell_type": "code",
   "metadata": {
    "cell_id": "5b79e0bc713d431ab4d25d1259e74165",
    "tags": [],
    "deepnote_app_coordinates": {
     "x": 0,
     "y": 0,
     "w": 12,
     "h": 5
    },
    "deepnote_to_be_reexecuted": false,
    "source_hash": "a0aaa88c",
    "execution_start": 1655226094858,
    "execution_millis": 4,
    "deepnote_cell_type": "code",
    "deepnote_cell_height": 526
   },
   "source": "nqubits = 5\n\ndj_p = ql.Program(\"deutsch-jozsa\", platform, nqubits)\nk = ql.Kernel(\"kernel\", platform, nqubits)\n\nfor q in range(nqubits - 1):\n    k.hadamard(q)\n\nk.x(nqubits - 1)\nk.hadamard(nqubits - 1)\n\noracle(nqubits)\n\nfor q in range(nqubits - 1):\n    k.hadamard(q)\n\nfor q in range(nqubits - 1):\n    k.measure(q)\n\ndj_p.add_kernel(k)\ndj_p.compile()\n\n# 0000-100% to funkcja stała, 0000-0% to funkcja zbalansowana\n",
   "execution_count": 71,
   "outputs": [
    {
     "name": "stdout",
     "text": "c\n",
     "output_type": "stream"
    }
   ]
  },
  {
   "cell_type": "code",
   "metadata": {
    "cell_id": "192a003064a64d52af0226c142d496ae",
    "tags": [],
    "deepnote_app_coordinates": {
     "x": 0,
     "y": 0,
     "w": 12,
     "h": 5
    },
    "deepnote_to_be_reexecuted": false,
    "source_hash": "7600528c",
    "execution_start": 1655226095681,
    "execution_millis": 215,
    "owner_user_id": "a52c2131-7d9a-47be-8a05-30f77c8413ff",
    "deepnote_cell_type": "code",
    "deepnote_cell_height": 399,
    "deepnote_output_heights": [
     266
    ]
   },
   "source": "counts = simulate(program=dj_p, measured=range(nqubits - 1), shots=1)\nplot_histogram(counts=counts)\n",
   "execution_count": 72,
   "outputs": [
    {
     "data": {
      "text/plain": "<Figure size 432x288 with 1 Axes>",
      "image/png": "[encoded data removed]"
     },
     "metadata": {
      "needs_background": "light",
      "image/png": {
       "width": 386,
       "height": 264
      }
     },
     "output_type": "display_data"
    }
   ]
  },
  {
   "cell_type": "markdown",
   "source": "## Simon's Algorithm",
   "metadata": {
    "formattedRanges": [],
    "cell_id": "b05698389e1248709f643f1526f43d8c",
    "tags": [],
    "is_collapsed": false,
    "deepnote_app_coordinates": {
     "x": 0,
     "y": 0,
     "w": 12,
     "h": 5
    },
    "deepnote_cell_type": "text-cell-h2"
   }
  },
  {
   "cell_type": "code",
   "metadata": {
    "cell_id": "45ccb4e5037d49969bed4da7a57b5fd6",
    "tags": [],
    "deepnote_app_coordinates": {
     "x": 0,
     "y": 0,
     "w": 12,
     "h": 5
    },
    "deepnote_to_be_reexecuted": false,
    "source_hash": "8ee7c39f",
    "execution_start": 1655226520538,
    "execution_millis": 2,
    "deepnote_cell_type": "code",
    "deepnote_cell_height": 549
   },
   "source": "def oracle(nqubits: int, k: ql.Kernel, secret: str):\n    for q in range(nqubits):\n        k.cnot(q, q + nqubits)\n\n    # sum = 0\n\n    # for i in range(len(secret)):\n    #     sum += secret[i]\n\n    # if sum != 0:\n    #     for i in range(len(secret)):\n    #         if secret[i] == 1:\n    #             value = i\n    #             for i in range(len(secret)):\n    #                 if secret[i] == 1:\n    #                     k.cnot(value, nqubits + i)\n    #             break\n\n    if \"1\" in secret:\n        for i, q in enumerate(secret):\n            if q == \"1\":\n                value = i\n                for i, q in enumerate(secret):\n                    if q == \"1\":\n                        k.cnot(value, nqubits + i)\n                break\n",
   "execution_count": 78,
   "outputs": []
  },
  {
   "cell_type": "code",
   "metadata": {
    "cell_id": "93e357989dec405f8f796c39e62db040",
    "tags": [],
    "deepnote_app_coordinates": {
     "x": 0,
     "y": 0,
     "w": 12,
     "h": 5
    },
    "deepnote_to_be_reexecuted": false,
    "source_hash": "4860fdcf",
    "execution_start": 1655226536105,
    "execution_millis": 622,
    "deepnote_cell_type": "code",
    "deepnote_cell_height": 490
   },
   "source": "nqubits = 3\n\nsecret = random_state(nqubits)\nprint(f\"{secret=}\")\n\np = ql.Program(\"simons\", platform, 2 * nqubits)\nk = ql.Kernel(\"kernel\", platform, 2 * nqubits)\n\nfor q in range(nqubits):\n    k.hadamard(q)\n\noracle(nqubits, k, secret)\n\nfor q in range(nqubits):\n    k.hadamard(q)\n\nfor q in range(nqubits):\n    k.measure(q)\n\np.add_kernel(k)\np.compile()\n",
   "execution_count": 80,
   "outputs": [
    {
     "name": "stdout",
     "text": "secret='001'\n",
     "output_type": "stream"
    }
   ]
  },
  {
   "cell_type": "code",
   "metadata": {
    "cell_id": "ff3912ed51ea4d5c82ce034d93530301",
    "tags": [],
    "deepnote_app_coordinates": {
     "x": 0,
     "y": 0,
     "w": 12,
     "h": 5
    },
    "deepnote_to_be_reexecuted": false,
    "source_hash": "ff8e4d5c",
    "execution_start": 1655226554583,
    "execution_millis": 1829,
    "deepnote_cell_type": "code",
    "deepnote_cell_height": 399,
    "deepnote_output_heights": [
     266
    ]
   },
   "source": "counts = simulate(program=p, measured=range(nqubits), shots=1024)\nplot_histogram(counts=counts)\n",
   "execution_count": 87,
   "outputs": [
    {
     "data": {
      "text/plain": "<Figure size 432x288 with 1 Axes>",
      "image/png": "[encoded data removed]"
     },
     "metadata": {
      "needs_background": "light",
      "image/png": {
       "width": 392,
       "height": 264
      }
     },
     "output_type": "display_data"
    }
   ]
  },
  {
   "cell_type": "code",
   "metadata": {
    "cell_id": "af7e796ace5c43d9866feb82969b8f3e",
    "tags": [],
    "deepnote_app_coordinates": {
     "x": 0,
     "y": 0,
     "w": 12,
     "h": 5
    },
    "deepnote_to_be_reexecuted": false,
    "source_hash": "afe8bd85",
    "execution_start": 1655224375700,
    "execution_millis": 23,
    "deepnote_cell_type": "code",
    "deepnote_cell_height": 81
   },
   "source": "#Na podstawie wyników można znaleźć secret (można to też dodać)",
   "execution_count": 29,
   "outputs": []
  },
  {
   "cell_type": "markdown",
   "source": "<a style='text-decoration:none;line-height:16px;display:flex;color:#5B5B62;padding:10px;justify-content:end;' href='https://deepnote.com?utm_source=created-in-deepnote-cell&projectId=dedd1051-cb34-4841-b8e5-79089caae121' target=\"_blank\">\n<img alt='Created in deepnote.com' style='display:inline;max-height:16px;margin:0px;margin-right:7.5px;' src='data:image/svg+xml;base64,PD94bWwgdmVyc2lvbj0iMS4wIiBlbmNvZGluZz0iVVRGLTgiPz4KPHN2ZyB3aWR0aD0iODBweCIgaGVpZ2h0PSI4MHB4IiB2aWV3Qm94PSIwIDAgODAgODAiIHZlcnNpb249IjEuMSIgeG1sbnM9Imh0dHA6Ly93d3cudzMub3JnLzIwMDAvc3ZnIiB4bWxuczp4bGluaz0iaHR0cDovL3d3dy53My5vcmcvMTk5OS94bGluayI+CiAgICA8IS0tIEdlbmVyYXRvcjogU2tldGNoIDU0LjEgKDc2NDkwKSAtIGh0dHBzOi8vc2tldGNoYXBwLmNvbSAtLT4KICAgIDx0aXRsZT5Hcm91cCAzPC90aXRsZT4KICAgIDxkZXNjPkNyZWF0ZWQgd2l0aCBTa2V0Y2guPC9kZXNjPgogICAgPGcgaWQ9IkxhbmRpbmciIHN0cm9rZT0ibm9uZSIgc3Ryb2tlLXdpZHRoPSIxIiBmaWxsPSJub25lIiBmaWxsLXJ1bGU9ImV2ZW5vZGQiPgogICAgICAgIDxnIGlkPSJBcnRib2FyZCIgdHJhbnNmb3JtPSJ0cmFuc2xhdGUoLTEyMzUuMDAwMDAwLCAtNzkuMDAwMDAwKSI+CiAgICAgICAgICAgIDxnIGlkPSJHcm91cC0zIiB0cmFuc2Zvcm09InRyYW5zbGF0ZSgxMjM1LjAwMDAwMCwgNzkuMDAwMDAwKSI+CiAgICAgICAgICAgICAgICA8cG9seWdvbiBpZD0iUGF0aC0yMCIgZmlsbD0iIzAyNjVCNCIgcG9pbnRzPSIyLjM3NjIzNzYyIDgwIDM4LjA0NzY2NjcgODAgNTcuODIxNzgyMiA3My44MDU3NTkyIDU3LjgyMTc4MjIgMzIuNzU5MjczOSAzOS4xNDAyMjc4IDMxLjY4MzE2ODMiPjwvcG9seWdvbj4KICAgICAgICAgICAgICAgIDxwYXRoIGQ9Ik0zNS4wMDc3MTgsODAgQzQyLjkwNjIwMDcsNzYuNDU0OTM1OCA0Ny41NjQ5MTY3LDcxLjU0MjI2NzEgNDguOTgzODY2LDY1LjI2MTk5MzkgQzUxLjExMjI4OTksNTUuODQxNTg0MiA0MS42NzcxNzk1LDQ5LjIxMjIyODQgMjUuNjIzOTg0Niw0OS4yMTIyMjg0IEMyNS40ODQ5Mjg5LDQ5LjEyNjg0NDggMjkuODI2MTI5Niw0My4yODM4MjQ4IDM4LjY0NzU4NjksMzEuNjgzMTY4MyBMNzIuODcxMjg3MSwzMi41NTQ0MjUgTDY1LjI4MDk3Myw2Ny42NzYzNDIxIEw1MS4xMTIyODk5LDc3LjM3NjE0NCBMMzUuMDA3NzE4LDgwIFoiIGlkPSJQYXRoLTIyIiBmaWxsPSIjMDAyODY4Ij48L3BhdGg+CiAgICAgICAgICAgICAgICA8cGF0aCBkPSJNMCwzNy43MzA0NDA1IEwyNy4xMTQ1MzcsMC4yNTcxMTE0MzYgQzYyLjM3MTUxMjMsLTEuOTkwNzE3MDEgODAsMTAuNTAwMzkyNyA4MCwzNy43MzA0NDA1IEM4MCw2NC45NjA0ODgyIDY0Ljc3NjUwMzgsNzkuMDUwMzQxNCAzNC4zMjk1MTEzLDgwIEM0Ny4wNTUzNDg5LDc3LjU2NzA4MDggNTMuNDE4MjY3Nyw3MC4zMTM2MTAzIDUzLjQxODI2NzcsNTguMjM5NTg4NSBDNTMuNDE4MjY3Nyw0MC4xMjg1NTU3IDM2LjMwMzk1NDQsMzcuNzMwNDQwNSAyNS4yMjc0MTcsMzcuNzMwNDQwNSBDMTcuODQzMDU4NiwzNy43MzA0NDA1IDkuNDMzOTE5NjYsMzcuNzMwNDQwNSAwLDM3LjczMDQ0MDUgWiIgaWQ9IlBhdGgtMTkiIGZpbGw9IiMzNzkzRUYiPjwvcGF0aD4KICAgICAgICAgICAgPC9nPgogICAgICAgIDwvZz4KICAgIDwvZz4KPC9zdmc+' > </img>\nCreated in <span style='font-weight:600;margin-left:4px;'>Deepnote</span></a>",
   "metadata": {
    "tags": [],
    "created_in_deepnote_cell": true,
    "deepnote_cell_type": "markdown"
   }
  }
 ],
 "nbformat": 4,
 "nbformat_minor": 2,
 "metadata": {
  "interpreter": {
   "hash": "916dbcbb3f70747c44a77c7bcd40155683ae19c65e1c03b4aa3499c5328201f1"
  },
  "kernelspec": {
   "display_name": "Python 3.8.10 64-bit",
   "language": "python",
   "name": "python3"
  },
  "language_info": {
   "codemirror_mode": {
    "name": "ipython",
    "version": 3
   },
   "file_extension": ".py",
   "mimetype": "text/x-python",
   "name": "python",
   "nbconvert_exporter": "python",
   "pygments_lexer": "ipython3",
   "version": "3.8.10"
  },
  "orig_nbformat": 4,
  "deepnote_notebook_id": "99408044-5698-4d63-ab6d-d68798c2800d",
  "deepnote": {},
  "deepnote_app_layout": "article",
  "deepnote_execution_queue": []
 }
}