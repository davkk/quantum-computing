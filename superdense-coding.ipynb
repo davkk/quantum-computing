{
 "cells": [
  {
   "cell_type": "markdown",
   "source": "# Superdense coding",
   "metadata": {
    "formattedRanges": [],
    "tags": [],
    "is_collapsed": false,
    "cell_id": "c4d45923-68e9-4a48-ab4f-6a07de2a3b5d",
    "deepnote_cell_type": "text-cell-h1"
   }
  },
  {
   "cell_type": "markdown",
   "source": "Kodowanie supergęste umożliwia przesłanie dwóch klasycznych bitów za pomocą jednego kubitu. Schemat działania jest prosty a w jego wyjaśnieniu pomóc mogą Alice i Bob.\n\nW pierwszym kroku, podobnie jak dla teleportacji, należy splątać kubity. Zarówno Alice jak i Bob dostają jeden z tych kubitów. Alice chcąc wysłać pewną wiadomość do Boba wykonuje dostosowane do treści operacje na swoim kubicie:\n- $00$ - nic\n- $01$ - bramka $Z$\n- $10$ - bramka $X$\n- $11$ - zadziałać $Z$ i $X$\n\nBob jest w stanie odczytać przesłaną informację poprzez zadziałanie bramkami CNOT (kubitu swojego z kubitem Alice) i Hadamard oraz pomiar.",
   "metadata": {
    "cell_id": "c05722daa3984a6ca1cc89a90652a754",
    "tags": [],
    "owner_user_id": "a52c2131-7d9a-47be-8a05-30f77c8413ff",
    "deepnote_cell_type": "markdown",
    "deepnote_cell_height": 572.90625
   }
  },
  {
   "cell_type": "markdown",
   "source": "Przykładowy schemat w przypadku kiedy wysyłana wiadomość to $10$.\n\n![](./circuits/superdense-10.png)",
   "metadata": {
    "cell_id": "9775a05e88024609ab7c753428f187af",
    "tags": [],
    "deepnote_cell_type": "markdown",
    "deepnote_cell_height": 232.390625
   }
  },
  {
   "cell_type": "code",
   "metadata": {
    "tags": [],
    "deepnote_to_be_reexecuted": false,
    "source_hash": "57193bd3",
    "execution_start": 1655307087009,
    "execution_millis": 1498,
    "cell_id": "00001-bde0a8ee-fd9f-4a59-aa93-8b9d64e5dfdc",
    "deepnote_cell_type": "code",
    "deepnote_cell_height": 99
   },
   "source": "from openql import openql as ql\nfrom utils import simulate, plot_histogram, random_state",
   "execution_count": null,
   "outputs": []
  },
  {
   "cell_type": "code",
   "metadata": {
    "tags": [],
    "deepnote_to_be_reexecuted": false,
    "source_hash": "4dddf776",
    "execution_start": 1655307090791,
    "execution_millis": 2,
    "cell_id": "00002-15cb34d7-9964-40e2-aa37-bc2f98680a83",
    "deepnote_cell_type": "code",
    "deepnote_cell_height": 171
   },
   "source": "ql.initialize()\ncompiler = ql.Compiler(\"compiler\", \"./config/compiler-config.json\")\n\nplatform = ql.Platform(\"platform\", \"none\")\nplatform.set_compiler(compiler=compiler)\n",
   "execution_count": null,
   "outputs": []
  },
  {
   "cell_type": "code",
   "metadata": {
    "tags": [],
    "deepnote_to_be_reexecuted": false,
    "source_hash": "7f9e1a60",
    "execution_start": 1655307094241,
    "execution_millis": 1,
    "cell_id": "00003-9dfce61e-ee49-46d6-9a80-a3c33834436d",
    "deepnote_cell_type": "code",
    "deepnote_cell_height": 279
   },
   "source": "def mess(k: ql.Kernel):\n    msg = random_state(2)\n    print(f'Wysłana wiadomość: {msg}')\n\n    if msg == \"01\":\n        k.z(0)\n    if msg == \"10\":\n        k.x(0)\n    if msg == \"11\":\n        k.z(0)\n        k.x(0)\n",
   "execution_count": null,
   "outputs": []
  },
  {
   "cell_type": "code",
   "metadata": {
    "tags": [],
    "deepnote_to_be_reexecuted": false,
    "source_hash": "60f80e8b",
    "execution_start": 1655307097095,
    "execution_millis": 9,
    "cell_id": "00004-a6b16c43-c198-4547-b8d4-dc4f67d5629c",
    "deepnote_cell_type": "code",
    "deepnote_cell_height": 490.1875
   },
   "source": "nqubits = 2\n\nsc_p = ql.Program(\"superdense-coding\", platform, nqubits)\nk = ql.Kernel(\"kernel\", platform, nqubits)\n\n# Splątanie kubitów\nk.hadamard(0)\nk.cnot(0, 1)\n\n# Wysyłanie wiadomości\nmess(k)\n\n# Odczyt\nk.cnot(1, 0)\nk.hadamard(1)\n\nk.measure(0)\nk.measure(1)\n\nsc_p.add_kernel(k)\nsc_p.compile()\n",
   "execution_count": null,
   "outputs": [
    {
     "name": "stdout",
     "text": "Wysłana wiadomość: 00\n",
     "output_type": "stream"
    }
   ]
  },
  {
   "cell_type": "code",
   "metadata": {
    "tags": [],
    "deepnote_to_be_reexecuted": false,
    "source_hash": "c060edc3",
    "execution_start": 1655307105486,
    "execution_millis": 366,
    "cell_id": "00005-8b409978-c9bb-415a-a6f2-d67967cc7795",
    "deepnote_cell_type": "code",
    "deepnote_cell_height": 399,
    "deepnote_output_heights": [
     266
    ]
   },
   "source": "counts = simulate(program=sc_p, shots=1024)\nplot_histogram(counts=counts)\n",
   "execution_count": null,
   "outputs": [
    {
     "data": {
      "text/plain": "<Figure size 432x288 with 1 Axes>",
      "image/png": "[encoded data removed]"
     },
     "metadata": {
      "needs_background": "light",
      "image/png": {
       "width": 386,
       "height": 264
      }
     },
     "output_type": "display_data"
    }
   ]
  },
  {
   "cell_type": "markdown",
   "source": "<a style='text-decoration:none;line-height:16px;display:flex;color:#5B5B62;padding:10px;justify-content:end;' href='https://deepnote.com?utm_source=created-in-deepnote-cell&projectId=dedd1051-cb34-4841-b8e5-79089caae121' target=\"_blank\">\n<img alt='Created in deepnote.com' style='display:inline;max-height:16px;margin:0px;margin-right:7.5px;' src='data:image/svg+xml;base64,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' > </img>\nCreated in <span style='font-weight:600;margin-left:4px;'>Deepnote</span></a>",
   "metadata": {
    "tags": [],
    "created_in_deepnote_cell": true,
    "deepnote_cell_type": "markdown"
   }
  }
 ],
 "nbformat": 4,
 "nbformat_minor": 2,
 "metadata": {
  "orig_nbformat": 2,
  "deepnote": {},
  "deepnote_notebook_id": "0c5ab78c-78c6-4c72-82bf-56023d4a8991",
  "deepnote_execution_queue": []
 }
}