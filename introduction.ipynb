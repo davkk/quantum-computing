{
 "cells": [
  {
   "cell_type": "markdown",
   "source": "# Wstęp",
   "metadata": {
    "formattedRanges": [],
    "cell_id": "69dbcceda7e34f0abd13b3ac15fa8503",
    "tags": [],
    "is_collapsed": false,
    "deepnote_cell_type": "text-cell-h1"
   }
  },
  {
   "cell_type": "markdown",
   "source": "## Qubit",
   "metadata": {
    "cell_id": "4dc248c26d2f435ebeef5e611281ddb4",
    "tags": [],
    "is_collapsed": false,
    "formattedRanges": [],
    "deepnote_cell_type": "text-cell-h2"
   }
  },
  {
   "cell_type": "markdown",
   "source": "Układ opisany dwuwymiarową przestrzenią Hilberta. To pozwala na reprezentację informacji, którą przechowuje jako superpozycję dwóch stanów kwantowych. \n\nGraficznie, stan qubitu można przedstawić na **tzw. sferze Blocha**:",
   "metadata": {
    "cell_id": "d0c28946ac75450bad8433c3886d5dbf",
    "tags": [],
    "deepnote_cell_type": "markdown",
    "deepnote_cell_height": 88.78125
   }
  },
  {
   "cell_type": "markdown",
   "source": "![](./circuits/image-20220619-195320.png)\nSfera Blocha (źródło: https://en.wikipedia.org/wiki/Quantum_logic_gate)",
   "metadata": {
    "cell_id": "424120cb2d1249b7865b4f7c1dceb533",
    "tags": [],
    "deepnote_cell_type": "markdown",
    "deepnote_cell_height": 411.390625
   }
  },
  {
   "cell_type": "markdown",
   "source": "",
   "metadata": {
    "cell_id": "a6e0ba6e1a9c4496946bc94a379f1739",
    "tags": [],
    "is_collapsed": false,
    "formattedRanges": [],
    "deepnote_cell_type": "text-cell-p"
   }
  },
  {
   "cell_type": "markdown",
   "source": "## Bramki kwantowe",
   "metadata": {
    "cell_id": "2d6d0a415ffb416d8ae8f90b1a45b1d6",
    "tags": [],
    "is_collapsed": false,
    "formattedRanges": [],
    "deepnote_cell_type": "text-cell-h2"
   }
  },
  {
   "cell_type": "markdown",
   "source": "Bramki kwantowe pozwalają na wykonywanie operacji na stanie qubitu. Poniżej przedstawiamy kilka z nich, których użyliśmy do przygotowanych algorytmów.\n",
   "metadata": {
    "cell_id": "1a818a84678843c78c25728b13072bb2",
    "tags": [],
    "owner_user_id": "f1acad25-5d73-4fc1-a6d7-9b35f0a07e2e",
    "deepnote_cell_type": "markdown",
    "deepnote_cell_height": 52.390625
   }
  },
  {
   "cell_type": "markdown",
   "source": "### Bramka Hadamard",
   "metadata": {
    "cell_id": "906dd9c5a3904b709a5ed3427037c284",
    "tags": [],
    "is_collapsed": false,
    "formattedRanges": [],
    "deepnote_cell_type": "text-cell-h3"
   }
  },
  {
   "cell_type": "markdown",
   "source": "Oznaczana jako $H$, zamienia pojedyncze stany na kombinajcę liniową odpowiednio:\n\n- $|0\\rangle \\rightarrow \\frac{1}{\\sqrt{2}} (|0\\rangle + |1\\rangle)$\n- $|1\\rangle \\rightarrow \\frac{1}{\\sqrt{2}} (|0\\rangle - |1\\rangle)$",
   "metadata": {
    "cell_id": "8ce0f2cf815a416ba3ebbf7b3e0615ff",
    "tags": [],
    "deepnote_cell_type": "markdown",
    "deepnote_cell_height": 133.609375
   }
  },
  {
   "cell_type": "markdown",
   "source": "### Bramki Pauliego",
   "metadata": {
    "cell_id": "1600ef08ee5f49efaf5dc69da5645ce7",
    "tags": [],
    "is_collapsed": false,
    "formattedRanges": [],
    "owner_user_id": "a52c2131-7d9a-47be-8a05-30f77c8413ff",
    "deepnote_cell_type": "text-cell-h3"
   }
  },
  {
   "cell_type": "markdown",
   "source": "- $X$ - odpowiada rotacji o $\\pi$ wokół osi $x$ na sferze Blocha. Zamienia stan $|0\\rangle$ na stan $|1\\rangle$ i na odwrót. Macierzowo można ją przedstawić jako:\n\n$$\nX = \\begin{bmatrix}\n0 & 1\\\\ \n1 & 0\n\\end{bmatrix}\n$$",
   "metadata": {
    "cell_id": "444c5e169e5a4b8aa10380ea776a59a2",
    "tags": [],
    "deepnote_cell_type": "markdown",
    "deepnote_cell_height": 124.046875
   }
  },
  {
   "cell_type": "markdown",
   "source": "- $Z$ - odpowiada rotacji o $\\pi$ wokół osi $z$ na sferze Blocha. Odwraca fazę qubitu. Macierzowo wygląda tak:\n\n$$\nZ = \\begin{bmatrix}\n1 & 0\\\\ \n0 & -1\n\\end{bmatrix}\n$$",
   "metadata": {
    "cell_id": "15fada23148e4cbb9ece4a8fde8732cc",
    "tags": [],
    "deepnote_cell_type": "markdown",
    "deepnote_cell_height": 124.046875
   }
  },
  {
   "cell_type": "markdown",
   "source": "### Bramki kontrolowane",
   "metadata": {
    "cell_id": "883082d3ba1d428f93d1823723651162",
    "tags": [],
    "is_collapsed": false,
    "formattedRanges": [],
    "deepnote_cell_type": "text-cell-h3"
   }
  },
  {
   "cell_type": "markdown",
   "source": "Działają na co najmniej dwa qubity, gdzie jeden lub kilka z nich jest qubitem \"kontrolowanym\". Oznacza to, że na podstawie jego stanu wykonywane są określone operacje.",
   "metadata": {
    "cell_id": "1e728c0feef242d09449a1134e33229e",
    "tags": [],
    "deepnote_cell_type": "markdown",
    "deepnote_cell_height": 74.78125
   }
  },
  {
   "cell_type": "markdown",
   "source": "- $\\text{CNOT}$ - wykonuje operację $X$ na wybranym qubicie na podstawie wartości qubita kontrolowanego (jeśli równy jest $|1\\rangle$). Postać macierzowa:\n\n$$\n\\text{CNOT} = \\begin{bmatrix}\n1 & 0 & 0 & 0\\\\\n0 & 1 & 0 & 0\\\\\n0 & 0 & 0 & 1\\\\\n0 & 0 & 1 & 0\\\\\n\\end{bmatrix}\n$$",
   "metadata": {
    "cell_id": "88621ec766274b93abcee6cfa50d7565",
    "tags": [],
    "deepnote_cell_type": "markdown",
    "deepnote_cell_height": 164.734375
   }
  },
  {
   "cell_type": "markdown",
   "source": "- $\\text{CZ}$ - wykonuje operację $Z$ na wybranym qubicie na podstawie wartości qubita kontrolowanego. Postać macierzowa:\n\n$$\n\\text{CZ} = \\begin{bmatrix}\n1 & 0 & 0 & 0\\\\\n0 & 1 & 0 & 0\\\\\n0 & 0 & 1 & 0\\\\\n0 & 0 & 0 & -1\\\\\n\\end{bmatrix}\n$$",
   "metadata": {
    "cell_id": "3df5de88b9554b0f8026e17aea827a7b",
    "tags": [],
    "deepnote_cell_type": "markdown",
    "deepnote_cell_height": 164.734375
   }
  },
  {
   "cell_type": "markdown",
   "source": "<a style='text-decoration:none;line-height:16px;display:flex;color:#5B5B62;padding:10px;justify-content:end;' href='https://deepnote.com?utm_source=created-in-deepnote-cell&projectId=dedd1051-cb34-4841-b8e5-79089caae121' target=\"_blank\">\n<img alt='Created in deepnote.com' style='display:inline;max-height:16px;margin:0px;margin-right:7.5px;' src='data:image/svg+xml;base64,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' > </img>\nCreated in <span style='font-weight:600;margin-left:4px;'>Deepnote</span></a>",
   "metadata": {
    "tags": [],
    "created_in_deepnote_cell": true,
    "deepnote_cell_type": "markdown"
   }
  }
 ],
 "nbformat": 4,
 "nbformat_minor": 2,
 "metadata": {
  "orig_nbformat": 2,
  "deepnote": {},
  "deepnote_notebook_id": "0e9265a0-4873-43e0-8257-692189a5d0e8",
  "deepnote_execution_queue": []
 }
}