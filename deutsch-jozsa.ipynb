{
 "cells": [
  {
   "cell_type": "markdown",
   "source": "# Deutsch-Jozsa algorithm",
   "metadata": {
    "formattedRanges": [],
    "tags": [],
    "is_collapsed": false,
    "cell_id": "fa9b51d8-27eb-4393-b5db-bd08d3aa04fa",
    "deepnote_cell_type": "text-cell-h1"
   }
  },
  {
   "cell_type": "markdown",
   "source": "Algorytm Deutcha-Jozsa jest jednym z pierwszych przykładów szybszego działania komputerów kwantowych w porównaniu z klasycznymi.\n\nZajmujemy się funkcją postaci:\n$$\nf:\\{0,1\\}^n\\to\\{0,1\\}\n$$\n\nAlgorytm w sposób deterministyczny pozwala na stwierdzenie, czy badana funkcja (nasze oracle) jest stała, czy zbalansowana, czyli przyjmuje równą ilość wartości $0$ i $1$.\n",
   "metadata": {
    "cell_id": "f939b6b2373b4fc9a1a4edf011dcd8a0",
    "tags": [],
    "deepnote_cell_type": "markdown",
    "deepnote_cell_height": 206.34375
   }
  },
  {
   "cell_type": "markdown",
   "source": "Jeśli funkcja jest stała to po końcowym pomiarze możemy zmierzyć jedynie $|0000\\rangle$. Jeśli funkcja jest zbalansowana, nigdy nie zmierzymy takiego stanu.",
   "metadata": {
    "cell_id": "ae53285f981343daba99b3abb95b238e",
    "tags": [],
    "owner_user_id": "f1acad25-5d73-4fc1-a6d7-9b35f0a07e2e",
    "deepnote_cell_type": "markdown",
    "deepnote_cell_height": 74.78125
   }
  },
  {
   "cell_type": "markdown",
   "source": "Przykładowy schemat działania dla funkcji zbalansowanej (uzyskany za pomocą www.quantum-inspire.com).\n\n![](./circuits/deutsch-jozsa.png)\n\n",
   "metadata": {
    "cell_id": "aa17f4d835c84a9bb6a6038fd3335fe3",
    "tags": [],
    "deepnote_cell_type": "markdown",
    "deepnote_cell_height": 391.875
   }
  },
  {
   "cell_type": "code",
   "metadata": {
    "tags": [],
    "deepnote_to_be_reexecuted": false,
    "source_hash": "c7588ff6",
    "execution_start": 1655547153368,
    "execution_millis": 0,
    "cell_id": "00001-40d192a5-095d-428b-8e90-5fa909ba64ab",
    "deepnote_cell_type": "code",
    "deepnote_cell_height": 117
   },
   "source": "from openql import openql as ql\nimport numpy as np\nfrom utils import simulate, plot_histogram, random_state",
   "execution_count": null,
   "outputs": []
  },
  {
   "cell_type": "code",
   "metadata": {
    "tags": [],
    "deepnote_to_be_reexecuted": false,
    "source_hash": "4dddf776",
    "execution_start": 1655547155911,
    "execution_millis": 4,
    "cell_id": "00002-065538bb-e8be-417d-bc0f-0bc3c65fedfc",
    "deepnote_cell_type": "code",
    "deepnote_cell_height": 171
   },
   "source": "ql.initialize()\ncompiler = ql.Compiler(\"compiler\", \"./config/compiler-config.json\")\n\nplatform = ql.Platform(\"platform\", \"none\")\nplatform.set_compiler(compiler=compiler)\n",
   "execution_count": null,
   "outputs": []
  },
  {
   "cell_type": "code",
   "metadata": {
    "tags": [],
    "deepnote_to_be_reexecuted": false,
    "source_hash": "af3bc093",
    "execution_start": 1655547284544,
    "execution_millis": 1,
    "cell_id": "00003-00c8442e-b838-4de6-89ed-41871843d1f1",
    "deepnote_cell_type": "code",
    "deepnote_cell_height": 495
   },
   "source": "def oracle(nqubits):\n    options = [\"c\", \"b\"]\n    random_option = np.random.choice(options)\n    print(f'Nasza funkcja jest: {random_option}')\n\n    if random_option == \"c\":\n        rand = np.random.randint(2)\n        for q in range(nqubits):\n            if rand == 1:\n                k.x(q)\n\n    if random_option == \"b\":\n        tab = [0, 1, 0, 0]\n        for i, q in enumerate(tab):\n            if q == 1:\n                k.x(i)\n\n        for q in range(nqubits - 1):\n            k.cnot(q, nqubits - 1)\n        \n        for i, q in enumerate(tab):\n            if tab[q] == 1:\n                k.x(i)\n",
   "execution_count": null,
   "outputs": []
  },
  {
   "cell_type": "code",
   "metadata": {
    "tags": [],
    "deepnote_to_be_reexecuted": false,
    "source_hash": "275401cc",
    "execution_start": 1655547425240,
    "execution_millis": 655,
    "cell_id": "00004-47659380-6ab5-43e6-9bab-3f615f7621e5",
    "deepnote_cell_type": "code",
    "deepnote_cell_height": 490.1875
   },
   "source": "nqubits = 5\n\nprogram = ql.Program(\"deutsch-jozsa\", platform, nqubits)\nk = ql.Kernel(\"kernel\", platform, nqubits)\n\nfor q in range(nqubits - 1):\n    k.hadamard(q)\n\nk.x(nqubits - 1)\nk.hadamard(nqubits - 1)\n\noracle(nqubits)\n\nfor q in range(nqubits - 1):\n    k.hadamard(q)\n\nfor q in range(nqubits - 1):\n    k.measure(q)\n\nprogram.add_kernel(k)\nprogram.compile()\n",
   "execution_count": null,
   "outputs": [
    {
     "name": "stdout",
     "text": "Nasza funkcja jest: b\n",
     "output_type": "stream"
    }
   ]
  },
  {
   "cell_type": "code",
   "metadata": {
    "tags": [],
    "deepnote_to_be_reexecuted": false,
    "source_hash": "1c4f35de",
    "execution_start": 1655547428674,
    "execution_millis": 141,
    "cell_id": "00005-84268b36-e73d-4319-92c3-fa5d6d6d77de",
    "deepnote_cell_type": "code",
    "deepnote_cell_height": 399,
    "deepnote_output_heights": [
     266
    ]
   },
   "source": "counts = simulate(program=program, measured=range(nqubits - 1), shots=1)\nplot_histogram(counts=counts)\n",
   "execution_count": null,
   "outputs": [
    {
     "data": {
      "text/plain": "<Figure size 432x288 with 1 Axes>",
      "image/png": "[encoded data removed]"
     },
     "metadata": {
      "needs_background": "light",
      "image/png": {
       "width": 386,
       "height": 264
      }
     },
     "output_type": "display_data"
    }
   ]
  },
  {
   "cell_type": "markdown",
   "source": "<a style='text-decoration:none;line-height:16px;display:flex;color:#5B5B62;padding:10px;justify-content:end;' href='https://deepnote.com?utm_source=created-in-deepnote-cell&projectId=dedd1051-cb34-4841-b8e5-79089caae121' target=\"_blank\">\n<img alt='Created in deepnote.com' style='display:inline;max-height:16px;margin:0px;margin-right:7.5px;' src='data:image/svg+xml;base64,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' > </img>\nCreated in <span style='font-weight:600;margin-left:4px;'>Deepnote</span></a>",
   "metadata": {
    "tags": [],
    "created_in_deepnote_cell": true,
    "deepnote_cell_type": "markdown"
   }
  }
 ],
 "nbformat": 4,
 "nbformat_minor": 2,
 "metadata": {
  "orig_nbformat": 2,
  "deepnote": {},
  "deepnote_notebook_id": "b353a504-326d-4a0c-a4c4-d43ea2a334b8",
  "deepnote_execution_queue": []
 }
}