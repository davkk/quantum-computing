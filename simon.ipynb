{
 "cells": [
  {
   "cell_type": "markdown",
   "source": "# Simon's algorithm",
   "metadata": {
    "formattedRanges": [],
    "tags": [],
    "is_collapsed": false,
    "cell_id": "d2aee207-c8ce-4670-a9b6-59abc72b9716",
    "deepnote_cell_type": "text-cell-h1"
   }
  },
  {
   "cell_type": "code",
   "metadata": {
    "tags": [],
    "deepnote_to_be_reexecuted": false,
    "source_hash": "c7588ff6",
    "execution_start": 1655228567796,
    "execution_millis": 695,
    "cell_id": "00001-5d8ebf74-754c-493a-91a9-ab950c9ddf38",
    "deepnote_cell_type": "code",
    "deepnote_cell_height": 117
   },
   "source": "from openql import openql as ql\nimport numpy as np\nfrom utils import simulate, plot_histogram, random_state",
   "execution_count": 1,
   "outputs": []
  },
  {
   "cell_type": "code",
   "metadata": {
    "tags": [],
    "deepnote_to_be_reexecuted": false,
    "source_hash": "4dddf776",
    "execution_start": 1655228568494,
    "execution_millis": 3,
    "cell_id": "00002-4c250213-3b38-42dd-bbbb-12e3fdbd78c3",
    "deepnote_cell_type": "code",
    "deepnote_cell_height": 171
   },
   "source": "ql.initialize()\ncompiler = ql.Compiler(\"compiler\", \"./config/compiler-config.json\")\n\nplatform = ql.Platform(\"platform\", \"none\")\nplatform.set_compiler(compiler=compiler)\n",
   "execution_count": 2,
   "outputs": []
  },
  {
   "cell_type": "code",
   "metadata": {
    "tags": [],
    "deepnote_to_be_reexecuted": false,
    "source_hash": "8ee7c39f",
    "execution_start": 1655228568502,
    "execution_millis": 2,
    "cell_id": "00003-6a09b81f-8ffa-4aab-8af3-9ad6ae978ee6",
    "deepnote_cell_type": "code",
    "deepnote_cell_height": 549
   },
   "source": "def oracle(nqubits: int, k: ql.Kernel, secret: str):\n    for q in range(nqubits):\n        k.cnot(q, q + nqubits)\n\n    # sum = 0\n\n    # for i in range(len(secret)):\n    #     sum += secret[i]\n\n    # if sum != 0:\n    #     for i in range(len(secret)):\n    #         if secret[i] == 1:\n    #             value = i\n    #             for i in range(len(secret)):\n    #                 if secret[i] == 1:\n    #                     k.cnot(value, nqubits + i)\n    #             break\n\n    if \"1\" in secret:\n        for i, q in enumerate(secret):\n            if q == \"1\":\n                value = i\n                for i, q in enumerate(secret):\n                    if q == \"1\":\n                        k.cnot(value, nqubits + i)\n                break\n",
   "execution_count": 3,
   "outputs": []
  },
  {
   "cell_type": "code",
   "metadata": {
    "tags": [],
    "deepnote_to_be_reexecuted": false,
    "source_hash": "a696a6",
    "execution_start": 1655228568508,
    "execution_millis": 90,
    "cell_id": "00004-5fed17a9-8478-4b2b-94f9-340130c14107",
    "deepnote_cell_type": "code",
    "deepnote_cell_height": 490
   },
   "source": "nqubits = 3\n\nsecret = random_state(nqubits)\nprint(f\"{secret=}\")\n\nprogram = ql.Program(\"simons\", platform, 2 * nqubits)\nk = ql.Kernel(\"kernel\", platform, 2 * nqubits)\n\nfor q in range(nqubits):\n    k.hadamard(q)\n\noracle(nqubits, k, secret)\n\nfor q in range(nqubits):\n    k.hadamard(q)\n\nfor q in range(nqubits):\n    k.measure(q)\n\nprogram.add_kernel(k)\nprogram.compile()\n",
   "execution_count": 4,
   "outputs": [
    {
     "name": "stdout",
     "text": "secret='111'\n",
     "output_type": "stream"
    }
   ]
  },
  {
   "cell_type": "code",
   "metadata": {
    "tags": [],
    "deepnote_to_be_reexecuted": false,
    "source_hash": "7b160b9f",
    "execution_start": 1655228568523,
    "execution_millis": 704,
    "cell_id": "00005-d7878066-d5a8-47b2-9cc0-71b08ad1a5b5",
    "owner_user_id": "a52c2131-7d9a-47be-8a05-30f77c8413ff",
    "deepnote_cell_type": "code",
    "deepnote_cell_height": 399,
    "deepnote_output_heights": [
     229.890625
    ]
   },
   "source": "counts = simulate(program=program, measured=range(nqubits), shots=1024)\nplot_histogram(counts=counts)\n",
   "execution_count": 5,
   "outputs": [
    {
     "data": {
      "text/plain": "<Figure size 432x288 with 1 Axes>",
      "image/png": "[encoded data removed]"
     },
     "metadata": {
      "needs_background": "light",
      "image/png": {
       "width": 392,
       "height": 264
      }
     },
     "output_type": "display_data"
    }
   ]
  },
  {
   "cell_type": "code",
   "metadata": {
    "cell_id": "2b974b4ece5e4e2f8ade72e46505bc6c",
    "tags": [],
    "deepnote_to_be_reexecuted": false,
    "source_hash": "7a60d901",
    "execution_start": 1655228569228,
    "execution_millis": 1,
    "deepnote_cell_type": "code",
    "deepnote_cell_height": 81
   },
   "source": "# Na podstawie wyników można znaleźć secret (można to też dodać)",
   "execution_count": 6,
   "outputs": []
  },
  {
   "cell_type": "markdown",
   "source": "## Na podstawie wyników można znaleźć secret (można to też dodać)",
   "metadata": {
    "formattedRanges": [],
    "cell_id": "75f6627224da4a0696a636d78f0360b1",
    "tags": [],
    "is_collapsed": false,
    "deepnote_cell_type": "text-cell-h2"
   }
  },
  {
   "cell_type": "markdown",
   "source": "<a style='text-decoration:none;line-height:16px;display:flex;color:#5B5B62;padding:10px;justify-content:end;' href='https://deepnote.com?utm_source=created-in-deepnote-cell&projectId=dedd1051-cb34-4841-b8e5-79089caae121' target=\"_blank\">\n<img alt='Created in deepnote.com' style='display:inline;max-height:16px;margin:0px;margin-right:7.5px;' src='data:image/svg+xml;base64,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' > </img>\nCreated in <span style='font-weight:600;margin-left:4px;'>Deepnote</span></a>",
   "metadata": {
    "tags": [],
    "created_in_deepnote_cell": true,
    "deepnote_cell_type": "markdown"
   }
  }
 ],
 "nbformat": 4,
 "nbformat_minor": 2,
 "metadata": {
  "orig_nbformat": 2,
  "deepnote": {},
  "deepnote_notebook_id": "cf0541db-6bce-4fd8-a202-8e074197db77",
  "deepnote_execution_queue": []
 }
}