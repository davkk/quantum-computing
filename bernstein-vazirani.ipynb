{
 "cells": [
  {
   "cell_type": "markdown",
   "source": "# Bernstein-Vazirani Algorithm\n",
   "metadata": {
    "cell_id": "48822e8ca8a5426cb48d327d372c9476",
    "tags": [],
    "deepnote_cell_type": "markdown",
    "deepnote_cell_height": 82
   }
  },
  {
   "cell_type": "code",
   "metadata": {
    "cell_id": "907e1800291f44c0b2e4702b2430d099",
    "tags": [],
    "deepnote_to_be_reexecuted": false,
    "source_hash": "57193bd3",
    "execution_start": 1655227187359,
    "execution_millis": 827,
    "deepnote_cell_type": "code",
    "deepnote_cell_height": 99
   },
   "source": "from openql import openql as ql\nfrom utils import simulate, plot_histogram, random_state",
   "execution_count": 1,
   "outputs": []
  },
  {
   "cell_type": "code",
   "metadata": {
    "cell_id": "ad479d31a8144d2d82786fef790ad7c7",
    "tags": [],
    "deepnote_to_be_reexecuted": false,
    "source_hash": "4dddf776",
    "execution_start": 1655227188191,
    "execution_millis": 4,
    "deepnote_cell_type": "code",
    "deepnote_cell_height": 171
   },
   "source": "ql.initialize()\ncompiler = ql.Compiler(\"compiler\", \"./config/compiler-config.json\")\n\nplatform = ql.Platform(\"platform\", \"none\")\nplatform.set_compiler(compiler=compiler)\n",
   "execution_count": 2,
   "outputs": []
  },
  {
   "cell_type": "code",
   "metadata": {
    "cell_id": "0c6f523300c24f70b49c995256c0f51a",
    "tags": [],
    "deepnote_to_be_reexecuted": false,
    "source_hash": "fda92254",
    "execution_start": 1655227188207,
    "execution_millis": 2,
    "deepnote_cell_type": "code",
    "deepnote_cell_height": 190.1875,
    "deepnote_output_heights": [
     21.1875
    ]
   },
   "source": "N = 5  # length of the secret message\nsecret = random_state(N)  # generate secret message\n\nsecret\n",
   "execution_count": 3,
   "outputs": [
    {
     "output_type": "execute_result",
     "execution_count": 3,
     "data": {
      "text/plain": "'01100'"
     },
     "metadata": {}
    }
   ]
  },
  {
   "cell_type": "code",
   "metadata": {
    "cell_id": "4787163e29084b2d83d74d261afc50cd",
    "tags": [],
    "deepnote_to_be_reexecuted": false,
    "source_hash": "e53c46e8",
    "execution_start": 1655227188215,
    "execution_millis": 3,
    "deepnote_cell_type": "code",
    "deepnote_cell_height": 495
   },
   "source": "bv_program = ql.Program(\"bernstein-vazirani\", platform=platform, qubit_count=N + 1)\nbv_kernel = ql.Kernel(\"bv-kernel\", platform=platform, qubit_count=N + 1)\n\n# apply Hadamard gate to first N qubits\nfor qubit in range(N):\n    bv_kernel.hadamard(qubit)\n\n# apply X gate and Hadamard gate to the last qubit\nbv_kernel.x(N)\nbv_kernel.hadamard(N)\n\n# oracle\nfor i, qubit in enumerate(secret):\n    if qubit == \"1\":\n        bv_kernel.cnot(i, N)\n\n# reverse Hadamards and measure\nfor qubit in range(N):\n    bv_kernel.hadamard(qubit)\n    bv_kernel.measure(qubit)\n\nbv_program.add_kernel(bv_kernel)\nbv_program.compile()\n",
   "execution_count": 4,
   "outputs": []
  },
  {
   "cell_type": "code",
   "metadata": {
    "cell_id": "d1f1df3bdb1541f489ff8086601ab404",
    "tags": [],
    "deepnote_to_be_reexecuted": false,
    "source_hash": "1af38364",
    "execution_start": 1655227188225,
    "execution_millis": 42,
    "deepnote_cell_type": "code",
    "deepnote_cell_height": 99
   },
   "source": "counts = simulate(program=bv_program, measured=range(N), shots=1)\n",
   "execution_count": 5,
   "outputs": []
  },
  {
   "cell_type": "code",
   "metadata": {
    "cell_id": "dda9c20b06ab4ef1b8934436025c17fa",
    "tags": [],
    "deepnote_to_be_reexecuted": false,
    "source_hash": "b1b8da77",
    "execution_start": 1655227188268,
    "execution_millis": 25981600,
    "deepnote_cell_type": "code",
    "deepnote_cell_height": 168
   },
   "source": "print(f\"{counts=}\")\nprint(f\"{secret=}\")\n",
   "execution_count": 6,
   "outputs": [
    {
     "name": "stdout",
     "text": "counts={'01100': 1}\nsecret='01100'\n",
     "output_type": "stream"
    }
   ]
  },
  {
   "cell_type": "markdown",
   "source": "<a style='text-decoration:none;line-height:16px;display:flex;color:#5B5B62;padding:10px;justify-content:end;' href='https://deepnote.com?utm_source=created-in-deepnote-cell&projectId=dedd1051-cb34-4841-b8e5-79089caae121' target=\"_blank\">\n<img alt='Created in deepnote.com' style='display:inline;max-height:16px;margin:0px;margin-right:7.5px;' src='data:image/svg+xml;base64,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' > </img>\nCreated in <span style='font-weight:600;margin-left:4px;'>Deepnote</span></a>",
   "metadata": {
    "tags": [],
    "created_in_deepnote_cell": true,
    "deepnote_cell_type": "markdown"
   }
  }
 ],
 "nbformat": 4,
 "nbformat_minor": 2,
 "metadata": {
  "orig_nbformat": 2,
  "deepnote": {},
  "deepnote_notebook_id": "0d31eb13-ef1c-4796-83c1-f806b6000ad5",
  "deepnote_execution_queue": []
 }
}