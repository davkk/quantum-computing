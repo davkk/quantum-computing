{
 "cells": [
  {
   "cell_type": "markdown",
   "source": "# Bernstein-Vazirani Algorithm\n",
   "metadata": {
    "cell_id": "48822e8ca8a5426cb48d327d372c9476",
    "tags": [],
    "deepnote_cell_type": "markdown",
    "deepnote_cell_height": 82
   }
  },
  {
   "cell_type": "markdown",
   "source": "Algorytm polega na znalezieniu sekretnej wiadomości, która kryje się w oracle. Oracle to funkcja $f$: $\\{0,1\\}^n\\rightarrow\\{0,1\\}$, która zapewnia liczenie iloczynu skalarnego między jej argumentem $x$ a sekretną wiadomością $s$ i działa na wynik operacją modulo 2.\n\n$$\nf(x)=x\\cdot s \\mod 2\n$$",
   "metadata": {
    "cell_id": "3bc3284c10bb42b5a795804db8977970",
    "tags": [],
    "deepnote_cell_type": "markdown",
    "deepnote_cell_height": 126.171875
   }
  },
  {
   "cell_type": "markdown",
   "source": "Klasycznie, chcąc odkryć wiadomość należałoby wywołać oracle $N$ razy, gdzie $N$ to długość wiadomości. \n\nAlgorytm kwantowy pozwala na uzyskanie sekretnej wiadomości po jedynie jednym wywołaniu.",
   "metadata": {
    "cell_id": "54077e022ed742c7bbdafca0ee6a2fa9",
    "tags": [],
    "deepnote_cell_type": "markdown",
    "deepnote_cell_height": 89.125
   }
  },
  {
   "cell_type": "markdown",
   "source": "Przykładowy układ dla sekretu $01111$ i $6$ qubitów:\n\n![0111](./circuits/bernstein-vazirani-01111.png)",
   "metadata": {
    "cell_id": "ff7b6da4d3a242d2aeb10d5928cf2d70",
    "tags": [],
    "deepnote_cell_type": "markdown",
    "deepnote_cell_height": 389.125
   }
  },
  {
   "cell_type": "code",
   "metadata": {
    "cell_id": "907e1800291f44c0b2e4702b2430d099",
    "tags": [],
    "deepnote_to_be_reexecuted": false,
    "source_hash": "e3da2f9f",
    "execution_start": 1655298284359,
    "execution_millis": 2370,
    "deepnote_cell_type": "code",
    "deepnote_cell_height": 99
   },
   "source": "from openql import openql as ql\nfrom utils import simulate, plot_histogram, random_state, display_circuit",
   "execution_count": null,
   "outputs": []
  },
  {
   "cell_type": "code",
   "metadata": {
    "cell_id": "ad479d31a8144d2d82786fef790ad7c7",
    "tags": [],
    "deepnote_to_be_reexecuted": false,
    "source_hash": "4dddf776",
    "execution_start": 1655298286734,
    "execution_millis": 3,
    "owner_user_id": "a52c2131-7d9a-47be-8a05-30f77c8413ff",
    "deepnote_cell_type": "code",
    "deepnote_cell_height": 171
   },
   "source": "ql.initialize()\ncompiler = ql.Compiler(\"compiler\", \"./config/compiler-config.json\")\n\nplatform = ql.Platform(\"platform\", \"none\")\nplatform.set_compiler(compiler=compiler)\n",
   "execution_count": null,
   "outputs": []
  },
  {
   "cell_type": "code",
   "metadata": {
    "cell_id": "0c6f523300c24f70b49c995256c0f51a",
    "tags": [],
    "deepnote_to_be_reexecuted": false,
    "source_hash": "fda92254",
    "execution_start": 1655298286739,
    "execution_millis": 230,
    "deepnote_cell_type": "code",
    "deepnote_cell_height": 190.1875,
    "deepnote_output_heights": [
     21.1875
    ]
   },
   "source": "N = 5  # length of the secret message\nsecret = random_state(N)  # generate secret message\n\nsecret\n",
   "execution_count": null,
   "outputs": [
    {
     "output_type": "execute_result",
     "execution_count": 3,
     "data": {
      "text/plain": "'01111'"
     },
     "metadata": {}
    }
   ]
  },
  {
   "cell_type": "code",
   "metadata": {
    "cell_id": "4787163e29084b2d83d74d261afc50cd",
    "tags": [],
    "deepnote_to_be_reexecuted": false,
    "source_hash": "82e50746",
    "execution_start": 1655298286767,
    "execution_millis": 1,
    "deepnote_cell_type": "code",
    "deepnote_cell_height": 495
   },
   "source": "program = ql.Program(\"bernstein-vazirani\", platform=platform, qubit_count=N + 1)\nk = ql.Kernel(\"bv-kernel\", platform=platform, qubit_count=N + 1)\n\n# apply Hadamard gate to first N qubits\nfor qubit in range(N):\n    k.hadamard(qubit)\n\n# apply X gate and Hadamard gate to the last qubit\nk.x(N)\nk.hadamard(N)\n\n# oracle\nfor i, qubit in enumerate(secret):\n    if qubit == \"1\":\n        k.cnot(i, N)\n\n# reverse Hadamards and measure\nfor qubit in range(N):\n    k.hadamard(qubit)\n    k.measure(qubit)\n\nprogram.add_kernel(k)\nprogram.compile()\n",
   "execution_count": null,
   "outputs": []
  },
  {
   "cell_type": "code",
   "metadata": {
    "cell_id": "d1f1df3bdb1541f489ff8086601ab404",
    "tags": [],
    "deepnote_to_be_reexecuted": false,
    "source_hash": "7d2529b9",
    "execution_start": 1655298286778,
    "execution_millis": 192,
    "deepnote_cell_type": "code",
    "deepnote_cell_height": 204
   },
   "source": "counts = simulate(program=program, measured=range(N), shots=1)\n\nprint(f\"{counts=}\")\nprint(f\"{secret=}\")\n",
   "execution_count": null,
   "outputs": [
    {
     "name": "stdout",
     "text": "counts={'01111': 1}\nsecret='01111'\n",
     "output_type": "stream"
    }
   ]
  },
  {
   "cell_type": "markdown",
   "source": "<a style='text-decoration:none;line-height:16px;display:flex;color:#5B5B62;padding:10px;justify-content:end;' href='https://deepnote.com?utm_source=created-in-deepnote-cell&projectId=dedd1051-cb34-4841-b8e5-79089caae121' target=\"_blank\">\n<img alt='Created in deepnote.com' style='display:inline;max-height:16px;margin:0px;margin-right:7.5px;' src='data:image/svg+xml;base64,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' > </img>\nCreated in <span style='font-weight:600;margin-left:4px;'>Deepnote</span></a>",
   "metadata": {
    "tags": [],
    "created_in_deepnote_cell": true,
    "deepnote_cell_type": "markdown"
   }
  }
 ],
 "nbformat": 4,
 "nbformat_minor": 2,
 "metadata": {
  "orig_nbformat": 2,
  "deepnote": {},
  "deepnote_notebook_id": "0d31eb13-ef1c-4796-83c1-f806b6000ad5",
  "deepnote_execution_queue": []
 }
}