{
 "cells": [
  {
   "cell_type": "markdown",
   "source": "# Grover's algorithm (two-solution oracle)",
   "metadata": {
    "formattedRanges": [],
    "tags": [],
    "is_collapsed": false,
    "cell_id": "8803ff72-8456-43d4-aa3c-086cd78424f2",
    "deepnote_cell_type": "text-cell-h1"
   }
  },
  {
   "cell_type": "markdown",
   "source": "![](./circuits/grover-two.png)",
   "metadata": {
    "cell_id": "97c2553259d243ae9540462568a84e3b",
    "tags": [],
    "owner_user_id": "a52c2131-7d9a-47be-8a05-30f77c8413ff",
    "deepnote_cell_type": "markdown",
    "deepnote_cell_height": 256.1875
   }
  },
  {
   "cell_type": "code",
   "metadata": {
    "tags": [],
    "deepnote_to_be_reexecuted": false,
    "source_hash": "57193bd3",
    "execution_start": 1655299334893,
    "execution_millis": 861,
    "cell_id": "00001-ff610c3b-c97f-40fb-b4ac-7f3557e4db3f",
    "deepnote_cell_type": "code",
    "deepnote_cell_height": 99
   },
   "source": "from openql import openql as ql\nfrom utils import simulate, plot_histogram, random_state",
   "execution_count": null,
   "outputs": []
  },
  {
   "cell_type": "code",
   "metadata": {
    "tags": [],
    "deepnote_to_be_reexecuted": false,
    "source_hash": "4dddf776",
    "execution_start": 1655299335761,
    "execution_millis": 1,
    "cell_id": "00002-9674a6a9-f634-47c0-a04c-b065a66a18a1",
    "deepnote_cell_type": "code",
    "deepnote_cell_height": 171
   },
   "source": "ql.initialize()\ncompiler = ql.Compiler(\"compiler\", \"./config/compiler-config.json\")\n\nplatform = ql.Platform(\"platform\", \"none\")\nplatform.set_compiler(compiler=compiler)\n",
   "execution_count": null,
   "outputs": []
  },
  {
   "cell_type": "code",
   "metadata": {
    "tags": [],
    "deepnote_to_be_reexecuted": false,
    "source_hash": "de003de5",
    "execution_start": 1655299335765,
    "execution_millis": 6,
    "cell_id": "00003-973ae9f4-db69-4211-a5e2-da7d6db1bd81",
    "deepnote_cell_type": "code",
    "deepnote_cell_height": 135
   },
   "source": "# choose two fixed winners\nwinner1 = \"100\"\nwinner2 = \"111\"\n",
   "execution_count": null,
   "outputs": []
  },
  {
   "cell_type": "code",
   "metadata": {
    "tags": [],
    "deepnote_to_be_reexecuted": false,
    "source_hash": "5f1dc940",
    "execution_start": 1655299335777,
    "execution_millis": 1,
    "cell_id": "00004-eb6c8616-9e77-4cd8-92b3-816c395ac379",
    "deepnote_cell_type": "code",
    "deepnote_cell_height": 603
   },
   "source": "program = ql.Program(\"grovers-two\", platform=platform, qubit_count=3)\nk = ql.Kernel(\"grd-kernel\", platform=platform, qubit_count=3)\n\nfor qubit in range(3):\n    k.hadamard(qubit)\n\n# oracle for winners: 100 and 111\nk.z(0)\nk.cz(0, 1)\nk.cz(0, 2)\n\n# amplification\nfor qubit in range(3):\n    k.hadamard(qubit)\n    k.x(qubit)\n\nk.hadamard(0)\nk.toffoli(2, 1, 0)\nk.hadamard(0)\n\nfor qubit in range(3):\n    k.x(qubit)\n    k.hadamard(qubit)\n\n# measurements\nfor qubit in range(3):\n    k.measure(qubit)\n\nprogram.add_kernel(k)\nprogram.compile()",
   "execution_count": null,
   "outputs": []
  },
  {
   "cell_type": "code",
   "metadata": {
    "tags": [],
    "deepnote_to_be_reexecuted": false,
    "source_hash": "b8a4e909",
    "execution_start": 1655299335792,
    "execution_millis": 1139,
    "cell_id": "00005-b32cba42-4803-4eb8-93aa-51662852b527",
    "deepnote_cell_type": "code",
    "deepnote_cell_height": 399,
    "deepnote_output_heights": [
     266
    ]
   },
   "source": "counts = simulate(program=program, shots=1024)\n\nplot_histogram(counts)",
   "execution_count": null,
   "outputs": [
    {
     "data": {
      "text/plain": "<Figure size 432x288 with 1 Axes>",
      "image/png": "[encoded data removed]"
     },
     "metadata": {
      "needs_background": "light",
      "image/png": {
       "width": 386,
       "height": 264
      }
     },
     "output_type": "display_data"
    }
   ]
  },
  {
   "cell_type": "markdown",
   "source": "<a style='text-decoration:none;line-height:16px;display:flex;color:#5B5B62;padding:10px;justify-content:end;' href='https://deepnote.com?utm_source=created-in-deepnote-cell&projectId=dedd1051-cb34-4841-b8e5-79089caae121' target=\"_blank\">\n<img alt='Created in deepnote.com' style='display:inline;max-height:16px;margin:0px;margin-right:7.5px;' src='data:image/svg+xml;base64,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' > </img>\nCreated in <span style='font-weight:600;margin-left:4px;'>Deepnote</span></a>",
   "metadata": {
    "tags": [],
    "created_in_deepnote_cell": true,
    "deepnote_cell_type": "markdown"
   }
  }
 ],
 "nbformat": 4,
 "nbformat_minor": 2,
 "metadata": {
  "orig_nbformat": 2,
  "deepnote": {},
  "deepnote_notebook_id": "2ddcf379-9dfd-4329-9031-67a45e01cabf",
  "deepnote_execution_queue": []
 }
}